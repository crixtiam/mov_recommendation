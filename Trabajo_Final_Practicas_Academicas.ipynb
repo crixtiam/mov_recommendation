{
 "cells": [
  {
   "cell_type": "markdown",
   "id": "64fc5a9c",
   "metadata": {},
   "source": [
    "<p><img alt=\"Colaboratory logo\" width=\"80px\" height=\"80px\" src=\"https://upload.wikimedia.org/wikipedia/commons/archive/f/fb/20161010213812%21Escudo-UdeA.svg\" align=\"left\" hspace=\"10px\" vspace=\"0px\"></p>\n",
    "\n",
    "<h1><center> <strong>Trabajo Final De Practicas</strong></h1>\n",
    "<p><center><em>Cristiam Loaiza &nbsp; cristiam.loaiza@udea.edu.co</p>"
   ]
  },
  {
   "cell_type": "markdown",
   "id": "ce6e64c4",
   "metadata": {},
   "source": [
    "<h4>Librerias</h4>"
   ]
  },
  {
   "cell_type": "markdown",
   "id": "ca7a93c6",
   "metadata": {},
   "source": [
    "1. Definir las librerias a utilizar en el modelo."
   ]
  },
  {
   "cell_type": "markdown",
   "id": "5f77a011",
   "metadata": {},
   "source": [
    "Las librerias de escogencia son: <br>\n",
    "* Pandas : Manejo de grandes datos en dataframes<br>\n",
    "* Numpy : Manipulacion de Arrays<br>\n",
    "* Seaborn : Graficas mas estilizadas<br>\n",
    "* csv : Manipulacion de archivos separados por comas<br>\n",
    "* Matplotlib : visulizacion de graficas<br>\n",
    "* Tqdm : Visualizacion de procesos, cuantifiacion de iteraciones por segundo <br>\n",
    "* Kmeans : <br>\n",
    "* StandardScaler:\n",
    "* PCA : <br>\n"
   ]
  },
  {
   "cell_type": "code",
   "execution_count": 1,
   "id": "dfce2dee",
   "metadata": {},
   "outputs": [],
   "source": [
    "import pandas as pd\n",
    "import numpy as np\n",
    "import seaborn as sns\n",
    "from io import StringIO\n",
    "import csv\n",
    "import matplotlib.pyplot as plt"
   ]
  },
  {
   "cell_type": "code",
   "execution_count": 2,
   "id": "44d2633e",
   "metadata": {},
   "outputs": [],
   "source": [
    "from sklearn.cluster import KMeans\n",
    "from sklearn.preprocessing import StandardScaler\n",
    "from sklearn.decomposition import PCA"
   ]
  },
  {
   "cell_type": "code",
   "execution_count": 3,
   "id": "c66e0543",
   "metadata": {},
   "outputs": [],
   "source": [
    "from tqdm import tqdm"
   ]
  },
  {
   "cell_type": "code",
   "execution_count": 4,
   "id": "f7743837",
   "metadata": {},
   "outputs": [],
   "source": [
    "from scipy.sparse import csr_matrix\n",
    "from scipy.sparse import save_npz"
   ]
  },
  {
   "cell_type": "code",
   "execution_count": 5,
   "id": "e98db164",
   "metadata": {},
   "outputs": [],
   "source": [
    "from sklearn.neighbors import NearestNeighbors"
   ]
  },
  {
   "cell_type": "code",
   "execution_count": 6,
   "id": "06b30d82",
   "metadata": {},
   "outputs": [],
   "source": [
    "import json"
   ]
  },
  {
   "cell_type": "markdown",
   "id": "c904c7bf",
   "metadata": {},
   "source": [
    "<p>Diccionario de datos para la manipulacion de titulos y legendas en las graficas</p>"
   ]
  },
  {
   "cell_type": "code",
   "execution_count": 7,
   "id": "7134a54d",
   "metadata": {},
   "outputs": [],
   "source": [
    "font = {\n",
    "  'family':'serif',\n",
    "  'color': 'Green',\n",
    "  'weight':'normal',\n",
    "  'size':40\n",
    "}\n",
    "font_title = {\n",
    "  'family':'serif',\n",
    "  'color':  'black',\n",
    "  'weight':'normal',\n",
    "  'size':30\n",
    "}\n",
    "\n",
    "fontLabel = {\n",
    "  'family':'serif',\n",
    "  'color': 'black',\n",
    "  'weight':'normal',\n",
    "  'size':20\n",
    "}"
   ]
  },
  {
   "cell_type": "markdown",
   "id": "11a2040d",
   "metadata": {},
   "source": [
    "<h4>Rutas de Acceso al Dataset</h4>"
   ]
  },
  {
   "cell_type": "markdown",
   "id": "e19a6726",
   "metadata": {},
   "source": [
    "2. Rutas de Accesos a los datos en para el modelo."
   ]
  },
  {
   "cell_type": "code",
   "execution_count": 8,
   "id": "55ff3cee",
   "metadata": {},
   "outputs": [],
   "source": [
    "route_movies = \"Datasets/ml-1m/movies.dat\"\n",
    "route_ratings = \"Datasets/ml-1m/ratings.dat\"\n",
    "route_users = \"Datasets/ml-1m/users.dat\""
   ]
  },
  {
   "cell_type": "markdown",
   "id": "a95b96f3",
   "metadata": {},
   "source": [
    "<h4>Acceso a los Datos</h4>"
   ]
  },
  {
   "cell_type": "markdown",
   "id": "9da945f9",
   "metadata": {},
   "source": [
    "3. En el acceso a los datos se encuentran 3 tablas relacionales de datos estructurados\n",
    "*OBJETIVO DE VALOR*\n",
    "* Se propone la unión de tablas para obtener una relación total de datos que permitan ver la calidad y cantidad de los datos."
   ]
  },
  {
   "cell_type": "code",
   "execution_count": 9,
   "id": "c5ee4b68",
   "metadata": {},
   "outputs": [],
   "source": [
    "data_movies= pd.read_csv(route_movies,header=None,sep=\"::\",engine=\"python\",encoding='latin-1')\n",
    "data_user=pd.read_csv(route_users,sep=\"::\",header=None, engine=\"python\",encoding='latin-1')\n",
    "data_ratings=pd.read_csv(route_ratings,sep=\"::\",header=None,engine=\"python\",encoding='latin-1')"
   ]
  },
  {
   "cell_type": "code",
   "execution_count": 10,
   "id": "f2c7fc52",
   "metadata": {},
   "outputs": [
    {
     "data": {
      "text/html": [
       "<div>\n",
       "<style scoped>\n",
       "    .dataframe tbody tr th:only-of-type {\n",
       "        vertical-align: middle;\n",
       "    }\n",
       "\n",
       "    .dataframe tbody tr th {\n",
       "        vertical-align: top;\n",
       "    }\n",
       "\n",
       "    .dataframe thead th {\n",
       "        text-align: right;\n",
       "    }\n",
       "</style>\n",
       "<table border=\"1\" class=\"dataframe\">\n",
       "  <thead>\n",
       "    <tr style=\"text-align: right;\">\n",
       "      <th></th>\n",
       "      <th>0</th>\n",
       "      <th>1</th>\n",
       "      <th>2</th>\n",
       "      <th>3</th>\n",
       "    </tr>\n",
       "  </thead>\n",
       "  <tbody>\n",
       "    <tr>\n",
       "      <th>0</th>\n",
       "      <td>1</td>\n",
       "      <td>1193</td>\n",
       "      <td>5</td>\n",
       "      <td>978300760</td>\n",
       "    </tr>\n",
       "    <tr>\n",
       "      <th>1</th>\n",
       "      <td>1</td>\n",
       "      <td>661</td>\n",
       "      <td>3</td>\n",
       "      <td>978302109</td>\n",
       "    </tr>\n",
       "    <tr>\n",
       "      <th>2</th>\n",
       "      <td>1</td>\n",
       "      <td>914</td>\n",
       "      <td>3</td>\n",
       "      <td>978301968</td>\n",
       "    </tr>\n",
       "    <tr>\n",
       "      <th>3</th>\n",
       "      <td>1</td>\n",
       "      <td>3408</td>\n",
       "      <td>4</td>\n",
       "      <td>978300275</td>\n",
       "    </tr>\n",
       "    <tr>\n",
       "      <th>4</th>\n",
       "      <td>1</td>\n",
       "      <td>2355</td>\n",
       "      <td>5</td>\n",
       "      <td>978824291</td>\n",
       "    </tr>\n",
       "    <tr>\n",
       "      <th>...</th>\n",
       "      <td>...</td>\n",
       "      <td>...</td>\n",
       "      <td>...</td>\n",
       "      <td>...</td>\n",
       "    </tr>\n",
       "    <tr>\n",
       "      <th>1000204</th>\n",
       "      <td>6040</td>\n",
       "      <td>1091</td>\n",
       "      <td>1</td>\n",
       "      <td>956716541</td>\n",
       "    </tr>\n",
       "    <tr>\n",
       "      <th>1000205</th>\n",
       "      <td>6040</td>\n",
       "      <td>1094</td>\n",
       "      <td>5</td>\n",
       "      <td>956704887</td>\n",
       "    </tr>\n",
       "    <tr>\n",
       "      <th>1000206</th>\n",
       "      <td>6040</td>\n",
       "      <td>562</td>\n",
       "      <td>5</td>\n",
       "      <td>956704746</td>\n",
       "    </tr>\n",
       "    <tr>\n",
       "      <th>1000207</th>\n",
       "      <td>6040</td>\n",
       "      <td>1096</td>\n",
       "      <td>4</td>\n",
       "      <td>956715648</td>\n",
       "    </tr>\n",
       "    <tr>\n",
       "      <th>1000208</th>\n",
       "      <td>6040</td>\n",
       "      <td>1097</td>\n",
       "      <td>4</td>\n",
       "      <td>956715569</td>\n",
       "    </tr>\n",
       "  </tbody>\n",
       "</table>\n",
       "<p>1000209 rows × 4 columns</p>\n",
       "</div>"
      ],
      "text/plain": [
       "            0     1  2          3\n",
       "0           1  1193  5  978300760\n",
       "1           1   661  3  978302109\n",
       "2           1   914  3  978301968\n",
       "3           1  3408  4  978300275\n",
       "4           1  2355  5  978824291\n",
       "...       ...   ... ..        ...\n",
       "1000204  6040  1091  1  956716541\n",
       "1000205  6040  1094  5  956704887\n",
       "1000206  6040   562  5  956704746\n",
       "1000207  6040  1096  4  956715648\n",
       "1000208  6040  1097  4  956715569\n",
       "\n",
       "[1000209 rows x 4 columns]"
      ]
     },
     "execution_count": 10,
     "metadata": {},
     "output_type": "execute_result"
    }
   ],
   "source": [
    "data_ratings"
   ]
  },
  {
   "cell_type": "code",
   "execution_count": 11,
   "id": "ef54876c",
   "metadata": {},
   "outputs": [
    {
     "data": {
      "text/plain": [
       "0    0\n",
       "1    0\n",
       "2    0\n",
       "3    0\n",
       "dtype: int64"
      ]
     },
     "execution_count": 11,
     "metadata": {},
     "output_type": "execute_result"
    }
   ],
   "source": [
    "data_ratings.isnull().sum()"
   ]
  },
  {
   "cell_type": "code",
   "execution_count": 12,
   "id": "4a87c97a",
   "metadata": {},
   "outputs": [
    {
     "data": {
      "text/html": [
       "<div>\n",
       "<style scoped>\n",
       "    .dataframe tbody tr th:only-of-type {\n",
       "        vertical-align: middle;\n",
       "    }\n",
       "\n",
       "    .dataframe tbody tr th {\n",
       "        vertical-align: top;\n",
       "    }\n",
       "\n",
       "    .dataframe thead th {\n",
       "        text-align: right;\n",
       "    }\n",
       "</style>\n",
       "<table border=\"1\" class=\"dataframe\">\n",
       "  <thead>\n",
       "    <tr style=\"text-align: right;\">\n",
       "      <th></th>\n",
       "      <th>0</th>\n",
       "      <th>1</th>\n",
       "      <th>2</th>\n",
       "      <th>3</th>\n",
       "      <th>4</th>\n",
       "    </tr>\n",
       "  </thead>\n",
       "  <tbody>\n",
       "    <tr>\n",
       "      <th>0</th>\n",
       "      <td>1</td>\n",
       "      <td>F</td>\n",
       "      <td>1</td>\n",
       "      <td>10</td>\n",
       "      <td>48067</td>\n",
       "    </tr>\n",
       "    <tr>\n",
       "      <th>1</th>\n",
       "      <td>2</td>\n",
       "      <td>M</td>\n",
       "      <td>56</td>\n",
       "      <td>16</td>\n",
       "      <td>70072</td>\n",
       "    </tr>\n",
       "    <tr>\n",
       "      <th>2</th>\n",
       "      <td>3</td>\n",
       "      <td>M</td>\n",
       "      <td>25</td>\n",
       "      <td>15</td>\n",
       "      <td>55117</td>\n",
       "    </tr>\n",
       "    <tr>\n",
       "      <th>3</th>\n",
       "      <td>4</td>\n",
       "      <td>M</td>\n",
       "      <td>45</td>\n",
       "      <td>7</td>\n",
       "      <td>02460</td>\n",
       "    </tr>\n",
       "    <tr>\n",
       "      <th>4</th>\n",
       "      <td>5</td>\n",
       "      <td>M</td>\n",
       "      <td>25</td>\n",
       "      <td>20</td>\n",
       "      <td>55455</td>\n",
       "    </tr>\n",
       "    <tr>\n",
       "      <th>...</th>\n",
       "      <td>...</td>\n",
       "      <td>...</td>\n",
       "      <td>...</td>\n",
       "      <td>...</td>\n",
       "      <td>...</td>\n",
       "    </tr>\n",
       "    <tr>\n",
       "      <th>6035</th>\n",
       "      <td>6036</td>\n",
       "      <td>F</td>\n",
       "      <td>25</td>\n",
       "      <td>15</td>\n",
       "      <td>32603</td>\n",
       "    </tr>\n",
       "    <tr>\n",
       "      <th>6036</th>\n",
       "      <td>6037</td>\n",
       "      <td>F</td>\n",
       "      <td>45</td>\n",
       "      <td>1</td>\n",
       "      <td>76006</td>\n",
       "    </tr>\n",
       "    <tr>\n",
       "      <th>6037</th>\n",
       "      <td>6038</td>\n",
       "      <td>F</td>\n",
       "      <td>56</td>\n",
       "      <td>1</td>\n",
       "      <td>14706</td>\n",
       "    </tr>\n",
       "    <tr>\n",
       "      <th>6038</th>\n",
       "      <td>6039</td>\n",
       "      <td>F</td>\n",
       "      <td>45</td>\n",
       "      <td>0</td>\n",
       "      <td>01060</td>\n",
       "    </tr>\n",
       "    <tr>\n",
       "      <th>6039</th>\n",
       "      <td>6040</td>\n",
       "      <td>M</td>\n",
       "      <td>25</td>\n",
       "      <td>6</td>\n",
       "      <td>11106</td>\n",
       "    </tr>\n",
       "  </tbody>\n",
       "</table>\n",
       "<p>6040 rows × 5 columns</p>\n",
       "</div>"
      ],
      "text/plain": [
       "         0  1   2   3      4\n",
       "0        1  F   1  10  48067\n",
       "1        2  M  56  16  70072\n",
       "2        3  M  25  15  55117\n",
       "3        4  M  45   7  02460\n",
       "4        5  M  25  20  55455\n",
       "...    ... ..  ..  ..    ...\n",
       "6035  6036  F  25  15  32603\n",
       "6036  6037  F  45   1  76006\n",
       "6037  6038  F  56   1  14706\n",
       "6038  6039  F  45   0  01060\n",
       "6039  6040  M  25   6  11106\n",
       "\n",
       "[6040 rows x 5 columns]"
      ]
     },
     "execution_count": 12,
     "metadata": {},
     "output_type": "execute_result"
    }
   ],
   "source": [
    "data_user"
   ]
  },
  {
   "cell_type": "code",
   "execution_count": 13,
   "id": "9bd5ca74",
   "metadata": {},
   "outputs": [
    {
     "data": {
      "text/plain": [
       "0    0\n",
       "1    0\n",
       "2    0\n",
       "3    0\n",
       "4    0\n",
       "dtype: int64"
      ]
     },
     "execution_count": 13,
     "metadata": {},
     "output_type": "execute_result"
    }
   ],
   "source": [
    "data_user.isnull().sum()"
   ]
  },
  {
   "cell_type": "code",
   "execution_count": 14,
   "id": "058f2aec",
   "metadata": {},
   "outputs": [
    {
     "data": {
      "text/html": [
       "<div>\n",
       "<style scoped>\n",
       "    .dataframe tbody tr th:only-of-type {\n",
       "        vertical-align: middle;\n",
       "    }\n",
       "\n",
       "    .dataframe tbody tr th {\n",
       "        vertical-align: top;\n",
       "    }\n",
       "\n",
       "    .dataframe thead th {\n",
       "        text-align: right;\n",
       "    }\n",
       "</style>\n",
       "<table border=\"1\" class=\"dataframe\">\n",
       "  <thead>\n",
       "    <tr style=\"text-align: right;\">\n",
       "      <th></th>\n",
       "      <th>0</th>\n",
       "      <th>1</th>\n",
       "      <th>2</th>\n",
       "    </tr>\n",
       "  </thead>\n",
       "  <tbody>\n",
       "    <tr>\n",
       "      <th>0</th>\n",
       "      <td>1</td>\n",
       "      <td>Toy Story (1995)</td>\n",
       "      <td>Animation|Children's|Comedy</td>\n",
       "    </tr>\n",
       "    <tr>\n",
       "      <th>1</th>\n",
       "      <td>2</td>\n",
       "      <td>Jumanji (1995)</td>\n",
       "      <td>Adventure|Children's|Fantasy</td>\n",
       "    </tr>\n",
       "    <tr>\n",
       "      <th>2</th>\n",
       "      <td>3</td>\n",
       "      <td>Grumpier Old Men (1995)</td>\n",
       "      <td>Comedy|Romance</td>\n",
       "    </tr>\n",
       "    <tr>\n",
       "      <th>3</th>\n",
       "      <td>4</td>\n",
       "      <td>Waiting to Exhale (1995)</td>\n",
       "      <td>Comedy|Drama</td>\n",
       "    </tr>\n",
       "    <tr>\n",
       "      <th>4</th>\n",
       "      <td>5</td>\n",
       "      <td>Father of the Bride Part II (1995)</td>\n",
       "      <td>Comedy</td>\n",
       "    </tr>\n",
       "    <tr>\n",
       "      <th>...</th>\n",
       "      <td>...</td>\n",
       "      <td>...</td>\n",
       "      <td>...</td>\n",
       "    </tr>\n",
       "    <tr>\n",
       "      <th>3878</th>\n",
       "      <td>3948</td>\n",
       "      <td>Meet the Parents (2000)</td>\n",
       "      <td>Comedy</td>\n",
       "    </tr>\n",
       "    <tr>\n",
       "      <th>3879</th>\n",
       "      <td>3949</td>\n",
       "      <td>Requiem for a Dream (2000)</td>\n",
       "      <td>Drama</td>\n",
       "    </tr>\n",
       "    <tr>\n",
       "      <th>3880</th>\n",
       "      <td>3950</td>\n",
       "      <td>Tigerland (2000)</td>\n",
       "      <td>Drama</td>\n",
       "    </tr>\n",
       "    <tr>\n",
       "      <th>3881</th>\n",
       "      <td>3951</td>\n",
       "      <td>Two Family House (2000)</td>\n",
       "      <td>Drama</td>\n",
       "    </tr>\n",
       "    <tr>\n",
       "      <th>3882</th>\n",
       "      <td>3952</td>\n",
       "      <td>Contender, The (2000)</td>\n",
       "      <td>Drama|Thriller</td>\n",
       "    </tr>\n",
       "  </tbody>\n",
       "</table>\n",
       "<p>3883 rows × 3 columns</p>\n",
       "</div>"
      ],
      "text/plain": [
       "         0                                   1                             2\n",
       "0        1                    Toy Story (1995)   Animation|Children's|Comedy\n",
       "1        2                      Jumanji (1995)  Adventure|Children's|Fantasy\n",
       "2        3             Grumpier Old Men (1995)                Comedy|Romance\n",
       "3        4            Waiting to Exhale (1995)                  Comedy|Drama\n",
       "4        5  Father of the Bride Part II (1995)                        Comedy\n",
       "...    ...                                 ...                           ...\n",
       "3878  3948             Meet the Parents (2000)                        Comedy\n",
       "3879  3949          Requiem for a Dream (2000)                         Drama\n",
       "3880  3950                    Tigerland (2000)                         Drama\n",
       "3881  3951             Two Family House (2000)                         Drama\n",
       "3882  3952               Contender, The (2000)                Drama|Thriller\n",
       "\n",
       "[3883 rows x 3 columns]"
      ]
     },
     "execution_count": 14,
     "metadata": {},
     "output_type": "execute_result"
    }
   ],
   "source": [
    "data_movies"
   ]
  },
  {
   "cell_type": "code",
   "execution_count": 15,
   "id": "524cc771",
   "metadata": {},
   "outputs": [
    {
     "data": {
      "text/plain": [
       "0    0\n",
       "1    0\n",
       "2    0\n",
       "dtype: int64"
      ]
     },
     "execution_count": 15,
     "metadata": {},
     "output_type": "execute_result"
    }
   ],
   "source": [
    "data_movies.isnull().sum()"
   ]
  },
  {
   "cell_type": "markdown",
   "id": "7396e6d0",
   "metadata": {},
   "source": [
    "**CONCLUSIONES PRIMER CHECKEO DE DATOS**\n",
    "* No se encuentran datos nulos, es un dataset muy limpio. En caso tal de que se hallasen datos nulos se procede a hallar valores que tengan relación con los datos de la columna para poder reemplazar dicho valor nulo. Se pueden utilizar técnicas de aproximaciones o eliminar la columna o fila pertinente (esto varia dependiendo de la importancia del dato)"
   ]
  },
  {
   "cell_type": "markdown",
   "id": "17d2b1df",
   "metadata": {},
   "source": [
    "---"
   ]
  },
  {
   "cell_type": "markdown",
   "id": "bce78f1e",
   "metadata": {},
   "source": [
    "<h2>Exploracion De Datos</h2>\n"
   ]
  },
  {
   "cell_type": "markdown",
   "id": "98f170da",
   "metadata": {},
   "source": [
    "---"
   ]
  },
  {
   "cell_type": "markdown",
   "id": "16c3af1c",
   "metadata": {},
   "source": [
    "<h4>Identificar y Unir Columnas al Dataframe</h4>"
   ]
  },
  {
   "cell_type": "code",
   "execution_count": 16,
   "id": "3390f1f2",
   "metadata": {},
   "outputs": [],
   "source": [
    "data_user_copy= data_user.copy()\n",
    "data_user_copy.rename(columns={0:\"UserID\",1:\"Gender\",2:\"Age\",3:\"Ocupation\",4:\"Zip_Code\"},inplace=True)"
   ]
  },
  {
   "cell_type": "code",
   "execution_count": 17,
   "id": "9196f470",
   "metadata": {},
   "outputs": [
    {
     "data": {
      "text/html": [
       "<div>\n",
       "<style scoped>\n",
       "    .dataframe tbody tr th:only-of-type {\n",
       "        vertical-align: middle;\n",
       "    }\n",
       "\n",
       "    .dataframe tbody tr th {\n",
       "        vertical-align: top;\n",
       "    }\n",
       "\n",
       "    .dataframe thead th {\n",
       "        text-align: right;\n",
       "    }\n",
       "</style>\n",
       "<table border=\"1\" class=\"dataframe\">\n",
       "  <thead>\n",
       "    <tr style=\"text-align: right;\">\n",
       "      <th></th>\n",
       "      <th>UserID</th>\n",
       "      <th>Gender</th>\n",
       "      <th>Age</th>\n",
       "      <th>Ocupation</th>\n",
       "      <th>Zip_Code</th>\n",
       "    </tr>\n",
       "  </thead>\n",
       "  <tbody>\n",
       "    <tr>\n",
       "      <th>0</th>\n",
       "      <td>1</td>\n",
       "      <td>F</td>\n",
       "      <td>1</td>\n",
       "      <td>10</td>\n",
       "      <td>48067</td>\n",
       "    </tr>\n",
       "    <tr>\n",
       "      <th>1</th>\n",
       "      <td>2</td>\n",
       "      <td>M</td>\n",
       "      <td>56</td>\n",
       "      <td>16</td>\n",
       "      <td>70072</td>\n",
       "    </tr>\n",
       "    <tr>\n",
       "      <th>2</th>\n",
       "      <td>3</td>\n",
       "      <td>M</td>\n",
       "      <td>25</td>\n",
       "      <td>15</td>\n",
       "      <td>55117</td>\n",
       "    </tr>\n",
       "    <tr>\n",
       "      <th>3</th>\n",
       "      <td>4</td>\n",
       "      <td>M</td>\n",
       "      <td>45</td>\n",
       "      <td>7</td>\n",
       "      <td>02460</td>\n",
       "    </tr>\n",
       "    <tr>\n",
       "      <th>4</th>\n",
       "      <td>5</td>\n",
       "      <td>M</td>\n",
       "      <td>25</td>\n",
       "      <td>20</td>\n",
       "      <td>55455</td>\n",
       "    </tr>\n",
       "  </tbody>\n",
       "</table>\n",
       "</div>"
      ],
      "text/plain": [
       "   UserID Gender  Age  Ocupation Zip_Code\n",
       "0       1      F    1         10    48067\n",
       "1       2      M   56         16    70072\n",
       "2       3      M   25         15    55117\n",
       "3       4      M   45          7    02460\n",
       "4       5      M   25         20    55455"
      ]
     },
     "execution_count": 17,
     "metadata": {},
     "output_type": "execute_result"
    }
   ],
   "source": [
    "data_user_copy.head()"
   ]
  },
  {
   "cell_type": "markdown",
   "id": "34230a44",
   "metadata": {},
   "source": [
    "<h4>Data Ratings</h4>"
   ]
  },
  {
   "cell_type": "code",
   "execution_count": 18,
   "id": "dbcd8a9f",
   "metadata": {},
   "outputs": [],
   "source": [
    "data_rating_copy=data_ratings.copy()\n",
    "data_rating_copy.rename(columns={0:\"UserID\",1:\"MovieID\",2:\"Ratings\",3:\"Timestamp\"},inplace=True)"
   ]
  },
  {
   "cell_type": "code",
   "execution_count": 19,
   "id": "549b6fd2",
   "metadata": {},
   "outputs": [
    {
     "data": {
      "text/html": [
       "<div>\n",
       "<style scoped>\n",
       "    .dataframe tbody tr th:only-of-type {\n",
       "        vertical-align: middle;\n",
       "    }\n",
       "\n",
       "    .dataframe tbody tr th {\n",
       "        vertical-align: top;\n",
       "    }\n",
       "\n",
       "    .dataframe thead th {\n",
       "        text-align: right;\n",
       "    }\n",
       "</style>\n",
       "<table border=\"1\" class=\"dataframe\">\n",
       "  <thead>\n",
       "    <tr style=\"text-align: right;\">\n",
       "      <th></th>\n",
       "      <th>UserID</th>\n",
       "      <th>MovieID</th>\n",
       "      <th>Ratings</th>\n",
       "      <th>Timestamp</th>\n",
       "    </tr>\n",
       "  </thead>\n",
       "  <tbody>\n",
       "    <tr>\n",
       "      <th>0</th>\n",
       "      <td>1</td>\n",
       "      <td>1193</td>\n",
       "      <td>5</td>\n",
       "      <td>978300760</td>\n",
       "    </tr>\n",
       "    <tr>\n",
       "      <th>1</th>\n",
       "      <td>1</td>\n",
       "      <td>661</td>\n",
       "      <td>3</td>\n",
       "      <td>978302109</td>\n",
       "    </tr>\n",
       "    <tr>\n",
       "      <th>2</th>\n",
       "      <td>1</td>\n",
       "      <td>914</td>\n",
       "      <td>3</td>\n",
       "      <td>978301968</td>\n",
       "    </tr>\n",
       "    <tr>\n",
       "      <th>3</th>\n",
       "      <td>1</td>\n",
       "      <td>3408</td>\n",
       "      <td>4</td>\n",
       "      <td>978300275</td>\n",
       "    </tr>\n",
       "    <tr>\n",
       "      <th>4</th>\n",
       "      <td>1</td>\n",
       "      <td>2355</td>\n",
       "      <td>5</td>\n",
       "      <td>978824291</td>\n",
       "    </tr>\n",
       "  </tbody>\n",
       "</table>\n",
       "</div>"
      ],
      "text/plain": [
       "   UserID  MovieID  Ratings  Timestamp\n",
       "0       1     1193        5  978300760\n",
       "1       1      661        3  978302109\n",
       "2       1      914        3  978301968\n",
       "3       1     3408        4  978300275\n",
       "4       1     2355        5  978824291"
      ]
     },
     "execution_count": 19,
     "metadata": {},
     "output_type": "execute_result"
    }
   ],
   "source": [
    "data_rating_copy.head()"
   ]
  },
  {
   "cell_type": "markdown",
   "id": "c8f2e690",
   "metadata": {},
   "source": [
    "<h4>Data Movies</h4>"
   ]
  },
  {
   "cell_type": "code",
   "execution_count": 20,
   "id": "b5131632",
   "metadata": {},
   "outputs": [],
   "source": [
    "data_movie_copy = data_movies.copy()\n",
    "data_movie_copy.rename(columns={0:\"MovieID\",1:\"Title\",2:\"Genres\"},inplace=True)"
   ]
  },
  {
   "cell_type": "code",
   "execution_count": 21,
   "id": "1497e8d8",
   "metadata": {},
   "outputs": [
    {
     "data": {
      "text/html": [
       "<div>\n",
       "<style scoped>\n",
       "    .dataframe tbody tr th:only-of-type {\n",
       "        vertical-align: middle;\n",
       "    }\n",
       "\n",
       "    .dataframe tbody tr th {\n",
       "        vertical-align: top;\n",
       "    }\n",
       "\n",
       "    .dataframe thead th {\n",
       "        text-align: right;\n",
       "    }\n",
       "</style>\n",
       "<table border=\"1\" class=\"dataframe\">\n",
       "  <thead>\n",
       "    <tr style=\"text-align: right;\">\n",
       "      <th></th>\n",
       "      <th>MovieID</th>\n",
       "      <th>Title</th>\n",
       "      <th>Genres</th>\n",
       "    </tr>\n",
       "  </thead>\n",
       "  <tbody>\n",
       "    <tr>\n",
       "      <th>0</th>\n",
       "      <td>1</td>\n",
       "      <td>Toy Story (1995)</td>\n",
       "      <td>Animation|Children's|Comedy</td>\n",
       "    </tr>\n",
       "    <tr>\n",
       "      <th>1</th>\n",
       "      <td>2</td>\n",
       "      <td>Jumanji (1995)</td>\n",
       "      <td>Adventure|Children's|Fantasy</td>\n",
       "    </tr>\n",
       "    <tr>\n",
       "      <th>2</th>\n",
       "      <td>3</td>\n",
       "      <td>Grumpier Old Men (1995)</td>\n",
       "      <td>Comedy|Romance</td>\n",
       "    </tr>\n",
       "    <tr>\n",
       "      <th>3</th>\n",
       "      <td>4</td>\n",
       "      <td>Waiting to Exhale (1995)</td>\n",
       "      <td>Comedy|Drama</td>\n",
       "    </tr>\n",
       "    <tr>\n",
       "      <th>4</th>\n",
       "      <td>5</td>\n",
       "      <td>Father of the Bride Part II (1995)</td>\n",
       "      <td>Comedy</td>\n",
       "    </tr>\n",
       "  </tbody>\n",
       "</table>\n",
       "</div>"
      ],
      "text/plain": [
       "   MovieID                               Title                        Genres\n",
       "0        1                    Toy Story (1995)   Animation|Children's|Comedy\n",
       "1        2                      Jumanji (1995)  Adventure|Children's|Fantasy\n",
       "2        3             Grumpier Old Men (1995)                Comedy|Romance\n",
       "3        4            Waiting to Exhale (1995)                  Comedy|Drama\n",
       "4        5  Father of the Bride Part II (1995)                        Comedy"
      ]
     },
     "execution_count": 21,
     "metadata": {},
     "output_type": "execute_result"
    }
   ],
   "source": [
    "data_movie_copy.head()"
   ]
  },
  {
   "cell_type": "markdown",
   "id": "c78ba4e4",
   "metadata": {},
   "source": [
    "<h4>Union de Tablas</h4>"
   ]
  },
  {
   "cell_type": "markdown",
   "id": "2cfb8ca1",
   "metadata": {},
   "source": [
    "<p>Se escoge la tabla Ratings como tabla principal para comenzar a unir las columnas correspondientes</p>\n"
   ]
  },
  {
   "cell_type": "code",
   "execution_count": 22,
   "id": "a4201d29",
   "metadata": {},
   "outputs": [
    {
     "data": {
      "text/html": [
       "<div>\n",
       "<style scoped>\n",
       "    .dataframe tbody tr th:only-of-type {\n",
       "        vertical-align: middle;\n",
       "    }\n",
       "\n",
       "    .dataframe tbody tr th {\n",
       "        vertical-align: top;\n",
       "    }\n",
       "\n",
       "    .dataframe thead th {\n",
       "        text-align: right;\n",
       "    }\n",
       "</style>\n",
       "<table border=\"1\" class=\"dataframe\">\n",
       "  <thead>\n",
       "    <tr style=\"text-align: right;\">\n",
       "      <th></th>\n",
       "      <th>UserID</th>\n",
       "      <th>MovieID</th>\n",
       "      <th>Ratings</th>\n",
       "      <th>Timestamp</th>\n",
       "      <th>Gender</th>\n",
       "      <th>Age</th>\n",
       "      <th>Ocupation</th>\n",
       "      <th>Zip_Code</th>\n",
       "    </tr>\n",
       "  </thead>\n",
       "  <tbody>\n",
       "    <tr>\n",
       "      <th>0</th>\n",
       "      <td>1</td>\n",
       "      <td>1193</td>\n",
       "      <td>5</td>\n",
       "      <td>978300760</td>\n",
       "      <td>F</td>\n",
       "      <td>1</td>\n",
       "      <td>10</td>\n",
       "      <td>48067</td>\n",
       "    </tr>\n",
       "    <tr>\n",
       "      <th>1</th>\n",
       "      <td>1</td>\n",
       "      <td>661</td>\n",
       "      <td>3</td>\n",
       "      <td>978302109</td>\n",
       "      <td>F</td>\n",
       "      <td>1</td>\n",
       "      <td>10</td>\n",
       "      <td>48067</td>\n",
       "    </tr>\n",
       "    <tr>\n",
       "      <th>2</th>\n",
       "      <td>1</td>\n",
       "      <td>914</td>\n",
       "      <td>3</td>\n",
       "      <td>978301968</td>\n",
       "      <td>F</td>\n",
       "      <td>1</td>\n",
       "      <td>10</td>\n",
       "      <td>48067</td>\n",
       "    </tr>\n",
       "    <tr>\n",
       "      <th>3</th>\n",
       "      <td>1</td>\n",
       "      <td>3408</td>\n",
       "      <td>4</td>\n",
       "      <td>978300275</td>\n",
       "      <td>F</td>\n",
       "      <td>1</td>\n",
       "      <td>10</td>\n",
       "      <td>48067</td>\n",
       "    </tr>\n",
       "    <tr>\n",
       "      <th>4</th>\n",
       "      <td>1</td>\n",
       "      <td>2355</td>\n",
       "      <td>5</td>\n",
       "      <td>978824291</td>\n",
       "      <td>F</td>\n",
       "      <td>1</td>\n",
       "      <td>10</td>\n",
       "      <td>48067</td>\n",
       "    </tr>\n",
       "  </tbody>\n",
       "</table>\n",
       "</div>"
      ],
      "text/plain": [
       "   UserID  MovieID  Ratings  Timestamp Gender  Age  Ocupation Zip_Code\n",
       "0       1     1193        5  978300760      F    1         10    48067\n",
       "1       1      661        3  978302109      F    1         10    48067\n",
       "2       1      914        3  978301968      F    1         10    48067\n",
       "3       1     3408        4  978300275      F    1         10    48067\n",
       "4       1     2355        5  978824291      F    1         10    48067"
      ]
     },
     "execution_count": 22,
     "metadata": {},
     "output_type": "execute_result"
    }
   ],
   "source": [
    "data_rating_copy=data_rating_copy.merge(data_user_copy,on=\"UserID\")\n",
    "data_rating_copy.head()"
   ]
  },
  {
   "cell_type": "code",
   "execution_count": 23,
   "id": "3828df79",
   "metadata": {},
   "outputs": [
    {
     "data": {
      "text/html": [
       "<div>\n",
       "<style scoped>\n",
       "    .dataframe tbody tr th:only-of-type {\n",
       "        vertical-align: middle;\n",
       "    }\n",
       "\n",
       "    .dataframe tbody tr th {\n",
       "        vertical-align: top;\n",
       "    }\n",
       "\n",
       "    .dataframe thead th {\n",
       "        text-align: right;\n",
       "    }\n",
       "</style>\n",
       "<table border=\"1\" class=\"dataframe\">\n",
       "  <thead>\n",
       "    <tr style=\"text-align: right;\">\n",
       "      <th></th>\n",
       "      <th>UserID</th>\n",
       "      <th>MovieID</th>\n",
       "      <th>Ratings</th>\n",
       "      <th>Timestamp</th>\n",
       "      <th>Gender</th>\n",
       "      <th>Age</th>\n",
       "      <th>Ocupation</th>\n",
       "      <th>Zip_Code</th>\n",
       "      <th>Title</th>\n",
       "      <th>Genres</th>\n",
       "    </tr>\n",
       "  </thead>\n",
       "  <tbody>\n",
       "    <tr>\n",
       "      <th>0</th>\n",
       "      <td>1</td>\n",
       "      <td>1193</td>\n",
       "      <td>5</td>\n",
       "      <td>978300760</td>\n",
       "      <td>F</td>\n",
       "      <td>1</td>\n",
       "      <td>10</td>\n",
       "      <td>48067</td>\n",
       "      <td>One Flew Over the Cuckoo's Nest (1975)</td>\n",
       "      <td>Drama</td>\n",
       "    </tr>\n",
       "    <tr>\n",
       "      <th>1</th>\n",
       "      <td>2</td>\n",
       "      <td>1193</td>\n",
       "      <td>5</td>\n",
       "      <td>978298413</td>\n",
       "      <td>M</td>\n",
       "      <td>56</td>\n",
       "      <td>16</td>\n",
       "      <td>70072</td>\n",
       "      <td>One Flew Over the Cuckoo's Nest (1975)</td>\n",
       "      <td>Drama</td>\n",
       "    </tr>\n",
       "    <tr>\n",
       "      <th>2</th>\n",
       "      <td>12</td>\n",
       "      <td>1193</td>\n",
       "      <td>4</td>\n",
       "      <td>978220179</td>\n",
       "      <td>M</td>\n",
       "      <td>25</td>\n",
       "      <td>12</td>\n",
       "      <td>32793</td>\n",
       "      <td>One Flew Over the Cuckoo's Nest (1975)</td>\n",
       "      <td>Drama</td>\n",
       "    </tr>\n",
       "    <tr>\n",
       "      <th>3</th>\n",
       "      <td>15</td>\n",
       "      <td>1193</td>\n",
       "      <td>4</td>\n",
       "      <td>978199279</td>\n",
       "      <td>M</td>\n",
       "      <td>25</td>\n",
       "      <td>7</td>\n",
       "      <td>22903</td>\n",
       "      <td>One Flew Over the Cuckoo's Nest (1975)</td>\n",
       "      <td>Drama</td>\n",
       "    </tr>\n",
       "    <tr>\n",
       "      <th>4</th>\n",
       "      <td>17</td>\n",
       "      <td>1193</td>\n",
       "      <td>5</td>\n",
       "      <td>978158471</td>\n",
       "      <td>M</td>\n",
       "      <td>50</td>\n",
       "      <td>1</td>\n",
       "      <td>95350</td>\n",
       "      <td>One Flew Over the Cuckoo's Nest (1975)</td>\n",
       "      <td>Drama</td>\n",
       "    </tr>\n",
       "    <tr>\n",
       "      <th>...</th>\n",
       "      <td>...</td>\n",
       "      <td>...</td>\n",
       "      <td>...</td>\n",
       "      <td>...</td>\n",
       "      <td>...</td>\n",
       "      <td>...</td>\n",
       "      <td>...</td>\n",
       "      <td>...</td>\n",
       "      <td>...</td>\n",
       "      <td>...</td>\n",
       "    </tr>\n",
       "    <tr>\n",
       "      <th>19995</th>\n",
       "      <td>4422</td>\n",
       "      <td>3105</td>\n",
       "      <td>4</td>\n",
       "      <td>965118729</td>\n",
       "      <td>M</td>\n",
       "      <td>25</td>\n",
       "      <td>5</td>\n",
       "      <td>10463</td>\n",
       "      <td>Awakenings (1990)</td>\n",
       "      <td>Drama</td>\n",
       "    </tr>\n",
       "    <tr>\n",
       "      <th>19996</th>\n",
       "      <td>4425</td>\n",
       "      <td>3105</td>\n",
       "      <td>4</td>\n",
       "      <td>965108415</td>\n",
       "      <td>M</td>\n",
       "      <td>35</td>\n",
       "      <td>7</td>\n",
       "      <td>98607</td>\n",
       "      <td>Awakenings (1990)</td>\n",
       "      <td>Drama</td>\n",
       "    </tr>\n",
       "    <tr>\n",
       "      <th>19997</th>\n",
       "      <td>4430</td>\n",
       "      <td>3105</td>\n",
       "      <td>2</td>\n",
       "      <td>965101956</td>\n",
       "      <td>F</td>\n",
       "      <td>25</td>\n",
       "      <td>0</td>\n",
       "      <td>94403</td>\n",
       "      <td>Awakenings (1990)</td>\n",
       "      <td>Drama</td>\n",
       "    </tr>\n",
       "    <tr>\n",
       "      <th>19998</th>\n",
       "      <td>4452</td>\n",
       "      <td>3105</td>\n",
       "      <td>3</td>\n",
       "      <td>965089072</td>\n",
       "      <td>F</td>\n",
       "      <td>25</td>\n",
       "      <td>7</td>\n",
       "      <td>78666</td>\n",
       "      <td>Awakenings (1990)</td>\n",
       "      <td>Drama</td>\n",
       "    </tr>\n",
       "    <tr>\n",
       "      <th>19999</th>\n",
       "      <td>4471</td>\n",
       "      <td>3105</td>\n",
       "      <td>4</td>\n",
       "      <td>967756099</td>\n",
       "      <td>M</td>\n",
       "      <td>25</td>\n",
       "      <td>6</td>\n",
       "      <td>94108</td>\n",
       "      <td>Awakenings (1990)</td>\n",
       "      <td>Drama</td>\n",
       "    </tr>\n",
       "  </tbody>\n",
       "</table>\n",
       "<p>20000 rows × 10 columns</p>\n",
       "</div>"
      ],
      "text/plain": [
       "       UserID  MovieID  Ratings  Timestamp Gender  Age  Ocupation Zip_Code  \\\n",
       "0           1     1193        5  978300760      F    1         10    48067   \n",
       "1           2     1193        5  978298413      M   56         16    70072   \n",
       "2          12     1193        4  978220179      M   25         12    32793   \n",
       "3          15     1193        4  978199279      M   25          7    22903   \n",
       "4          17     1193        5  978158471      M   50          1    95350   \n",
       "...       ...      ...      ...        ...    ...  ...        ...      ...   \n",
       "19995    4422     3105        4  965118729      M   25          5    10463   \n",
       "19996    4425     3105        4  965108415      M   35          7    98607   \n",
       "19997    4430     3105        2  965101956      F   25          0    94403   \n",
       "19998    4452     3105        3  965089072      F   25          7    78666   \n",
       "19999    4471     3105        4  967756099      M   25          6    94108   \n",
       "\n",
       "                                        Title Genres  \n",
       "0      One Flew Over the Cuckoo's Nest (1975)  Drama  \n",
       "1      One Flew Over the Cuckoo's Nest (1975)  Drama  \n",
       "2      One Flew Over the Cuckoo's Nest (1975)  Drama  \n",
       "3      One Flew Over the Cuckoo's Nest (1975)  Drama  \n",
       "4      One Flew Over the Cuckoo's Nest (1975)  Drama  \n",
       "...                                       ...    ...  \n",
       "19995                       Awakenings (1990)  Drama  \n",
       "19996                       Awakenings (1990)  Drama  \n",
       "19997                       Awakenings (1990)  Drama  \n",
       "19998                       Awakenings (1990)  Drama  \n",
       "19999                       Awakenings (1990)  Drama  \n",
       "\n",
       "[20000 rows x 10 columns]"
      ]
     },
     "execution_count": 23,
     "metadata": {},
     "output_type": "execute_result"
    }
   ],
   "source": [
    "data_rating_copy= data_rating_copy.merge(data_movie_copy,on=\"MovieID\")\n",
    "data_rating_copy.head(20000)"
   ]
  },
  {
   "cell_type": "code",
   "execution_count": 24,
   "id": "5f559cb6",
   "metadata": {},
   "outputs": [
    {
     "name": "stdout",
     "output_type": "stream",
     "text": [
      "<class 'pandas.core.frame.DataFrame'>\n",
      "Int64Index: 1000209 entries, 0 to 1000208\n",
      "Data columns (total 10 columns):\n",
      " #   Column     Non-Null Count    Dtype \n",
      "---  ------     --------------    ----- \n",
      " 0   UserID     1000209 non-null  int64 \n",
      " 1   MovieID    1000209 non-null  int64 \n",
      " 2   Ratings    1000209 non-null  int64 \n",
      " 3   Timestamp  1000209 non-null  int64 \n",
      " 4   Gender     1000209 non-null  object\n",
      " 5   Age        1000209 non-null  int64 \n",
      " 6   Ocupation  1000209 non-null  int64 \n",
      " 7   Zip_Code   1000209 non-null  object\n",
      " 8   Title      1000209 non-null  object\n",
      " 9   Genres     1000209 non-null  object\n",
      "dtypes: int64(6), object(4)\n",
      "memory usage: 83.9+ MB\n"
     ]
    }
   ],
   "source": [
    "data_rating_copy.info()"
   ]
  },
  {
   "cell_type": "code",
   "execution_count": 25,
   "id": "bfd196b2",
   "metadata": {},
   "outputs": [],
   "source": [
    "total_data = data_rating_copy"
   ]
  },
  {
   "cell_type": "markdown",
   "id": "37a46101",
   "metadata": {},
   "source": [
    "---"
   ]
  },
  {
   "cell_type": "markdown",
   "id": "2ab7ff02",
   "metadata": {},
   "source": [
    "<h2>Transformacion de Datos</h2>"
   ]
  },
  {
   "cell_type": "code",
   "execution_count": 26,
   "id": "943e3f8b",
   "metadata": {},
   "outputs": [],
   "source": [
    "data_to_bin = total_data[[\"Age\",\"Ratings\",\"Gender\",\"Ocupation\",\"Zip_Code\",\"Genres\"]]"
   ]
  },
  {
   "cell_type": "code",
   "execution_count": 27,
   "id": "8f29d2d1",
   "metadata": {},
   "outputs": [
    {
     "data": {
      "text/html": [
       "<div>\n",
       "<style scoped>\n",
       "    .dataframe tbody tr th:only-of-type {\n",
       "        vertical-align: middle;\n",
       "    }\n",
       "\n",
       "    .dataframe tbody tr th {\n",
       "        vertical-align: top;\n",
       "    }\n",
       "\n",
       "    .dataframe thead th {\n",
       "        text-align: right;\n",
       "    }\n",
       "</style>\n",
       "<table border=\"1\" class=\"dataframe\">\n",
       "  <thead>\n",
       "    <tr style=\"text-align: right;\">\n",
       "      <th></th>\n",
       "      <th>Age</th>\n",
       "      <th>Ratings</th>\n",
       "      <th>Gender</th>\n",
       "      <th>Ocupation</th>\n",
       "      <th>Zip_Code</th>\n",
       "      <th>Genres</th>\n",
       "    </tr>\n",
       "  </thead>\n",
       "  <tbody>\n",
       "    <tr>\n",
       "      <th>0</th>\n",
       "      <td>1</td>\n",
       "      <td>5</td>\n",
       "      <td>F</td>\n",
       "      <td>10</td>\n",
       "      <td>48067</td>\n",
       "      <td>Drama</td>\n",
       "    </tr>\n",
       "    <tr>\n",
       "      <th>1</th>\n",
       "      <td>56</td>\n",
       "      <td>5</td>\n",
       "      <td>M</td>\n",
       "      <td>16</td>\n",
       "      <td>70072</td>\n",
       "      <td>Drama</td>\n",
       "    </tr>\n",
       "    <tr>\n",
       "      <th>2</th>\n",
       "      <td>25</td>\n",
       "      <td>4</td>\n",
       "      <td>M</td>\n",
       "      <td>12</td>\n",
       "      <td>32793</td>\n",
       "      <td>Drama</td>\n",
       "    </tr>\n",
       "    <tr>\n",
       "      <th>3</th>\n",
       "      <td>25</td>\n",
       "      <td>4</td>\n",
       "      <td>M</td>\n",
       "      <td>7</td>\n",
       "      <td>22903</td>\n",
       "      <td>Drama</td>\n",
       "    </tr>\n",
       "    <tr>\n",
       "      <th>4</th>\n",
       "      <td>50</td>\n",
       "      <td>5</td>\n",
       "      <td>M</td>\n",
       "      <td>1</td>\n",
       "      <td>95350</td>\n",
       "      <td>Drama</td>\n",
       "    </tr>\n",
       "  </tbody>\n",
       "</table>\n",
       "</div>"
      ],
      "text/plain": [
       "   Age  Ratings Gender  Ocupation Zip_Code Genres\n",
       "0    1        5      F         10    48067  Drama\n",
       "1   56        5      M         16    70072  Drama\n",
       "2   25        4      M         12    32793  Drama\n",
       "3   25        4      M          7    22903  Drama\n",
       "4   50        5      M          1    95350  Drama"
      ]
     },
     "execution_count": 27,
     "metadata": {},
     "output_type": "execute_result"
    }
   ],
   "source": [
    "data_to_bin.head()"
   ]
  },
  {
   "cell_type": "code",
   "execution_count": 28,
   "id": "9aa3e997",
   "metadata": {},
   "outputs": [
    {
     "name": "stderr",
     "output_type": "stream",
     "text": [
      "C:\\Users\\crist\\AppData\\Local\\Temp/ipykernel_12336/2604126013.py:1: SettingWithCopyWarning: \n",
      "A value is trying to be set on a copy of a slice from a DataFrame.\n",
      "Try using .loc[row_indexer,col_indexer] = value instead\n",
      "\n",
      "See the caveats in the documentation: https://pandas.pydata.org/pandas-docs/stable/user_guide/indexing.html#returning-a-view-versus-a-copy\n",
      "  data_to_bin[\"Gender\"]=data_to_bin[\"Gender\"].map(lambda x: 1 if x=='M' else 0)\n"
     ]
    }
   ],
   "source": [
    "data_to_bin[\"Gender\"]=data_to_bin[\"Gender\"].map(lambda x: 1 if x=='M' else 0)"
   ]
  },
  {
   "cell_type": "code",
   "execution_count": 29,
   "id": "f2030efc",
   "metadata": {},
   "outputs": [
    {
     "data": {
      "text/html": [
       "<div>\n",
       "<style scoped>\n",
       "    .dataframe tbody tr th:only-of-type {\n",
       "        vertical-align: middle;\n",
       "    }\n",
       "\n",
       "    .dataframe tbody tr th {\n",
       "        vertical-align: top;\n",
       "    }\n",
       "\n",
       "    .dataframe thead th {\n",
       "        text-align: right;\n",
       "    }\n",
       "</style>\n",
       "<table border=\"1\" class=\"dataframe\">\n",
       "  <thead>\n",
       "    <tr style=\"text-align: right;\">\n",
       "      <th></th>\n",
       "      <th>Age</th>\n",
       "      <th>Ratings</th>\n",
       "      <th>Gender</th>\n",
       "      <th>Ocupation</th>\n",
       "      <th>Zip_Code</th>\n",
       "      <th>Genres</th>\n",
       "    </tr>\n",
       "  </thead>\n",
       "  <tbody>\n",
       "    <tr>\n",
       "      <th>0</th>\n",
       "      <td>1</td>\n",
       "      <td>5</td>\n",
       "      <td>0</td>\n",
       "      <td>10</td>\n",
       "      <td>48067</td>\n",
       "      <td>Drama</td>\n",
       "    </tr>\n",
       "    <tr>\n",
       "      <th>1</th>\n",
       "      <td>56</td>\n",
       "      <td>5</td>\n",
       "      <td>1</td>\n",
       "      <td>16</td>\n",
       "      <td>70072</td>\n",
       "      <td>Drama</td>\n",
       "    </tr>\n",
       "    <tr>\n",
       "      <th>2</th>\n",
       "      <td>25</td>\n",
       "      <td>4</td>\n",
       "      <td>1</td>\n",
       "      <td>12</td>\n",
       "      <td>32793</td>\n",
       "      <td>Drama</td>\n",
       "    </tr>\n",
       "    <tr>\n",
       "      <th>3</th>\n",
       "      <td>25</td>\n",
       "      <td>4</td>\n",
       "      <td>1</td>\n",
       "      <td>7</td>\n",
       "      <td>22903</td>\n",
       "      <td>Drama</td>\n",
       "    </tr>\n",
       "    <tr>\n",
       "      <th>4</th>\n",
       "      <td>50</td>\n",
       "      <td>5</td>\n",
       "      <td>1</td>\n",
       "      <td>1</td>\n",
       "      <td>95350</td>\n",
       "      <td>Drama</td>\n",
       "    </tr>\n",
       "  </tbody>\n",
       "</table>\n",
       "</div>"
      ],
      "text/plain": [
       "   Age  Ratings  Gender  Ocupation Zip_Code Genres\n",
       "0    1        5       0         10    48067  Drama\n",
       "1   56        5       1         16    70072  Drama\n",
       "2   25        4       1         12    32793  Drama\n",
       "3   25        4       1          7    22903  Drama\n",
       "4   50        5       1          1    95350  Drama"
      ]
     },
     "execution_count": 29,
     "metadata": {},
     "output_type": "execute_result"
    }
   ],
   "source": [
    "data_to_bin.head()"
   ]
  },
  {
   "cell_type": "code",
   "execution_count": 30,
   "id": "fc98d538",
   "metadata": {},
   "outputs": [],
   "source": [
    "unique_vGenres = []\n",
    "for i in data_to_bin[\"Genres\"]:\n",
    "    unique_vGenres.append(i.split(\"|\"))"
   ]
  },
  {
   "cell_type": "code",
   "execution_count": 31,
   "id": "7ccd58b6",
   "metadata": {},
   "outputs": [],
   "source": [
    "valuesUniquesGenres = []\n",
    "for i,value in enumerate(unique_vGenres):\n",
    "    for j in range(len(unique_vGenres[i])):\n",
    "        valuesUniquesGenres.append(unique_vGenres[i][j])"
   ]
  },
  {
   "cell_type": "code",
   "execution_count": 32,
   "id": "a7fbdd74",
   "metadata": {},
   "outputs": [],
   "source": [
    "df_uniquesGenres=pd.DataFrame(valuesUniquesGenres)"
   ]
  },
  {
   "cell_type": "code",
   "execution_count": 33,
   "id": "e38041d4",
   "metadata": {},
   "outputs": [],
   "source": [
    "df_unique_vGenres_total = df_uniquesGenres[0].unique()"
   ]
  },
  {
   "cell_type": "markdown",
   "id": "d5ad6b1b",
   "metadata": {},
   "source": [
    "---"
   ]
  },
  {
   "cell_type": "markdown",
   "id": "ce085006",
   "metadata": {},
   "source": [
    "\n",
    "import seaborn as sns\n",
    "import matplotlib.pyplot as plt\n",
    " \n",
    "tips = sns.load_dataset('tips')\n",
    "sns.lmplot(x ='total_bill', y ='tip', size = 2, aspect = 4, data = tips)"
   ]
  },
  {
   "cell_type": "markdown",
   "id": "be58c428",
   "metadata": {},
   "source": [
    "<h1>Tecnica Filtro Colaborativo</h1>"
   ]
  },
  {
   "cell_type": "code",
   "execution_count": 34,
   "id": "448b32ad",
   "metadata": {},
   "outputs": [],
   "source": [
    "total_data =  data_rating_copy"
   ]
  },
  {
   "cell_type": "code",
   "execution_count": 35,
   "id": "be20b694",
   "metadata": {},
   "outputs": [
    {
     "data": {
      "text/html": [
       "<div>\n",
       "<style scoped>\n",
       "    .dataframe tbody tr th:only-of-type {\n",
       "        vertical-align: middle;\n",
       "    }\n",
       "\n",
       "    .dataframe tbody tr th {\n",
       "        vertical-align: top;\n",
       "    }\n",
       "\n",
       "    .dataframe thead th {\n",
       "        text-align: right;\n",
       "    }\n",
       "</style>\n",
       "<table border=\"1\" class=\"dataframe\">\n",
       "  <thead>\n",
       "    <tr style=\"text-align: right;\">\n",
       "      <th></th>\n",
       "      <th>UserID</th>\n",
       "      <th>MovieID</th>\n",
       "      <th>Ratings</th>\n",
       "      <th>Timestamp</th>\n",
       "      <th>Gender</th>\n",
       "      <th>Age</th>\n",
       "      <th>Ocupation</th>\n",
       "      <th>Zip_Code</th>\n",
       "      <th>Title</th>\n",
       "      <th>Genres</th>\n",
       "    </tr>\n",
       "  </thead>\n",
       "  <tbody>\n",
       "    <tr>\n",
       "      <th>0</th>\n",
       "      <td>1</td>\n",
       "      <td>1193</td>\n",
       "      <td>5</td>\n",
       "      <td>978300760</td>\n",
       "      <td>F</td>\n",
       "      <td>1</td>\n",
       "      <td>10</td>\n",
       "      <td>48067</td>\n",
       "      <td>One Flew Over the Cuckoo's Nest (1975)</td>\n",
       "      <td>Drama</td>\n",
       "    </tr>\n",
       "    <tr>\n",
       "      <th>1</th>\n",
       "      <td>2</td>\n",
       "      <td>1193</td>\n",
       "      <td>5</td>\n",
       "      <td>978298413</td>\n",
       "      <td>M</td>\n",
       "      <td>56</td>\n",
       "      <td>16</td>\n",
       "      <td>70072</td>\n",
       "      <td>One Flew Over the Cuckoo's Nest (1975)</td>\n",
       "      <td>Drama</td>\n",
       "    </tr>\n",
       "    <tr>\n",
       "      <th>2</th>\n",
       "      <td>12</td>\n",
       "      <td>1193</td>\n",
       "      <td>4</td>\n",
       "      <td>978220179</td>\n",
       "      <td>M</td>\n",
       "      <td>25</td>\n",
       "      <td>12</td>\n",
       "      <td>32793</td>\n",
       "      <td>One Flew Over the Cuckoo's Nest (1975)</td>\n",
       "      <td>Drama</td>\n",
       "    </tr>\n",
       "    <tr>\n",
       "      <th>3</th>\n",
       "      <td>15</td>\n",
       "      <td>1193</td>\n",
       "      <td>4</td>\n",
       "      <td>978199279</td>\n",
       "      <td>M</td>\n",
       "      <td>25</td>\n",
       "      <td>7</td>\n",
       "      <td>22903</td>\n",
       "      <td>One Flew Over the Cuckoo's Nest (1975)</td>\n",
       "      <td>Drama</td>\n",
       "    </tr>\n",
       "    <tr>\n",
       "      <th>4</th>\n",
       "      <td>17</td>\n",
       "      <td>1193</td>\n",
       "      <td>5</td>\n",
       "      <td>978158471</td>\n",
       "      <td>M</td>\n",
       "      <td>50</td>\n",
       "      <td>1</td>\n",
       "      <td>95350</td>\n",
       "      <td>One Flew Over the Cuckoo's Nest (1975)</td>\n",
       "      <td>Drama</td>\n",
       "    </tr>\n",
       "  </tbody>\n",
       "</table>\n",
       "</div>"
      ],
      "text/plain": [
       "   UserID  MovieID  Ratings  Timestamp Gender  Age  Ocupation Zip_Code  \\\n",
       "0       1     1193        5  978300760      F    1         10    48067   \n",
       "1       2     1193        5  978298413      M   56         16    70072   \n",
       "2      12     1193        4  978220179      M   25         12    32793   \n",
       "3      15     1193        4  978199279      M   25          7    22903   \n",
       "4      17     1193        5  978158471      M   50          1    95350   \n",
       "\n",
       "                                    Title Genres  \n",
       "0  One Flew Over the Cuckoo's Nest (1975)  Drama  \n",
       "1  One Flew Over the Cuckoo's Nest (1975)  Drama  \n",
       "2  One Flew Over the Cuckoo's Nest (1975)  Drama  \n",
       "3  One Flew Over the Cuckoo's Nest (1975)  Drama  \n",
       "4  One Flew Over the Cuckoo's Nest (1975)  Drama  "
      ]
     },
     "execution_count": 35,
     "metadata": {},
     "output_type": "execute_result"
    }
   ],
   "source": [
    "total_data.head()"
   ]
  },
  {
   "cell_type": "code",
   "execution_count": 36,
   "id": "6388a478",
   "metadata": {},
   "outputs": [
    {
     "data": {
      "text/plain": [
       "(3706, 6040, 1000209)"
      ]
     },
     "execution_count": 36,
     "metadata": {},
     "output_type": "execute_result"
    }
   ],
   "source": [
    "c_moviesId = total_data[\"MovieID\"].nunique()\n",
    "c_userId = total_data[\"UserID\"].nunique()\n",
    "c_ratings= len(total_data[\"Ratings\"])\n",
    "c_moviesId,c_userId, c_ratings"
   ]
  },
  {
   "cell_type": "markdown",
   "id": "6282bc47",
   "metadata": {},
   "source": [
    "<p>Agrupacion por usuario y cantidad de ratings a las peliculas</p>"
   ]
  },
  {
   "cell_type": "code",
   "execution_count": 37,
   "id": "51dcb00a",
   "metadata": {},
   "outputs": [
    {
     "data": {
      "text/html": [
       "<div>\n",
       "<style scoped>\n",
       "    .dataframe tbody tr th:only-of-type {\n",
       "        vertical-align: middle;\n",
       "    }\n",
       "\n",
       "    .dataframe tbody tr th {\n",
       "        vertical-align: top;\n",
       "    }\n",
       "\n",
       "    .dataframe thead th {\n",
       "        text-align: right;\n",
       "    }\n",
       "</style>\n",
       "<table border=\"1\" class=\"dataframe\">\n",
       "  <thead>\n",
       "    <tr style=\"text-align: right;\">\n",
       "      <th></th>\n",
       "      <th>UserID</th>\n",
       "      <th>nRatings</th>\n",
       "    </tr>\n",
       "  </thead>\n",
       "  <tbody>\n",
       "    <tr>\n",
       "      <th>0</th>\n",
       "      <td>1</td>\n",
       "      <td>53</td>\n",
       "    </tr>\n",
       "    <tr>\n",
       "      <th>1</th>\n",
       "      <td>2</td>\n",
       "      <td>129</td>\n",
       "    </tr>\n",
       "    <tr>\n",
       "      <th>2</th>\n",
       "      <td>3</td>\n",
       "      <td>51</td>\n",
       "    </tr>\n",
       "    <tr>\n",
       "      <th>3</th>\n",
       "      <td>4</td>\n",
       "      <td>21</td>\n",
       "    </tr>\n",
       "    <tr>\n",
       "      <th>4</th>\n",
       "      <td>5</td>\n",
       "      <td>198</td>\n",
       "    </tr>\n",
       "  </tbody>\n",
       "</table>\n",
       "</div>"
      ],
      "text/plain": [
       "   UserID  nRatings\n",
       "0       1        53\n",
       "1       2       129\n",
       "2       3        51\n",
       "3       4        21\n",
       "4       5       198"
      ]
     },
     "execution_count": 37,
     "metadata": {},
     "output_type": "execute_result"
    }
   ],
   "source": [
    "userFreq = total_data[[\"UserID\",\"MovieID\"]].groupby(\"UserID\").count().reset_index()\n",
    "userFreq.columns = [\"UserID\",\"nRatings\"]\n",
    "userFreq.head()"
   ]
  },
  {
   "cell_type": "code",
   "execution_count": 38,
   "id": "e622b2c8",
   "metadata": {},
   "outputs": [
    {
     "data": {
      "text/html": [
       "<div>\n",
       "<style scoped>\n",
       "    .dataframe tbody tr th:only-of-type {\n",
       "        vertical-align: middle;\n",
       "    }\n",
       "\n",
       "    .dataframe tbody tr th {\n",
       "        vertical-align: top;\n",
       "    }\n",
       "\n",
       "    .dataframe thead th {\n",
       "        text-align: right;\n",
       "    }\n",
       "</style>\n",
       "<table border=\"1\" class=\"dataframe\">\n",
       "  <thead>\n",
       "    <tr style=\"text-align: right;\">\n",
       "      <th></th>\n",
       "      <th>UserID</th>\n",
       "      <th>nRatings</th>\n",
       "    </tr>\n",
       "  </thead>\n",
       "  <tbody>\n",
       "    <tr>\n",
       "      <th>6035</th>\n",
       "      <td>6036</td>\n",
       "      <td>888</td>\n",
       "    </tr>\n",
       "    <tr>\n",
       "      <th>6036</th>\n",
       "      <td>6037</td>\n",
       "      <td>202</td>\n",
       "    </tr>\n",
       "    <tr>\n",
       "      <th>6037</th>\n",
       "      <td>6038</td>\n",
       "      <td>20</td>\n",
       "    </tr>\n",
       "    <tr>\n",
       "      <th>6038</th>\n",
       "      <td>6039</td>\n",
       "      <td>123</td>\n",
       "    </tr>\n",
       "    <tr>\n",
       "      <th>6039</th>\n",
       "      <td>6040</td>\n",
       "      <td>341</td>\n",
       "    </tr>\n",
       "  </tbody>\n",
       "</table>\n",
       "</div>"
      ],
      "text/plain": [
       "      UserID  nRatings\n",
       "6035    6036       888\n",
       "6036    6037       202\n",
       "6037    6038        20\n",
       "6038    6039       123\n",
       "6039    6040       341"
      ]
     },
     "execution_count": 38,
     "metadata": {},
     "output_type": "execute_result"
    }
   ],
   "source": [
    "userFreq.tail()"
   ]
  },
  {
   "cell_type": "markdown",
   "id": "859a6de0",
   "metadata": {},
   "source": [
    "<p>Media de Ratings por usuario</p>"
   ]
  },
  {
   "cell_type": "code",
   "execution_count": 39,
   "id": "61d131e8",
   "metadata": {},
   "outputs": [
    {
     "data": {
      "text/plain": [
       "165.5975165562914"
      ]
     },
     "execution_count": 39,
     "metadata": {},
     "output_type": "execute_result"
    }
   ],
   "source": [
    "userFreq[\"nRatings\"].mean()"
   ]
  },
  {
   "cell_type": "markdown",
   "id": "25c6edca",
   "metadata": {},
   "source": [
    "<h3>Conclusiones</h3>\n",
    "\n",
    "<ul>\n",
    "    <li> En el dataset se encuentran 3706 peliculas diferentes</li>\n",
    "    <li> En el dataset se encuentran 6040 usuarios diferentes</li>\n",
    "    <li> En en promedio cada usuario del dataset califica 165 peliculas</li>\n",
    "</ul>"
   ]
  },
  {
   "cell_type": "code",
   "execution_count": 78,
   "id": "1c1855a1",
   "metadata": {},
   "outputs": [
    {
     "data": {
      "image/png": "[encoded data removed]",
      "text/plain": [
       "<Figure size 1008x360 with 1 Axes>"
      ]
     },
     "metadata": {},
     "output_type": "display_data"
    }
   ],
   "source": [
    "sns.set_style(\"ticks\")\n",
    "plt.figure(figsize=(14,5))\n",
    "sns.countplot(x=\"Ratings\",data=total_data,palette=\"coolwarm\")\n",
    "sns.despine()\n",
    "plt.title(\"Distribucion de los Ratings de las peliculas\",fontLabel)\n",
    "plt.xlabel(\"Ratings\",fontLabel)\n",
    "plt.ylabel(\"Conteo Total\",fontLabel)\n",
    "\n",
    "plt.xticks(fontsize=15,color='black')\n",
    "plt.yticks(fontsize=15,color='black')\n",
    "plt.show()"
   ]
  },
  {
   "cell_type": "markdown",
   "id": "34006c67",
   "metadata": {},
   "source": [
    "<h3>Conclusiones</h3>\n",
    "\n",
    "<ul>\n",
    "    <li> El Rating/calificacion mas comun es el 4</li>\n",
    "    <li> El Rating/calificacion menos comun es el 1</li>\n",
    "</ul>\n"
   ]
  },
  {
   "cell_type": "markdown",
   "id": "9831664f",
   "metadata": {},
   "source": [
    "<h3>Mejor y peor valoracion por pelicula</h3>"
   ]
  },
  {
   "cell_type": "code",
   "execution_count": 41,
   "id": "71cf65d8",
   "metadata": {},
   "outputs": [],
   "source": [
    "meanRating = total_data.groupby(\"MovieID\")[[\"Ratings\"]].mean()\n",
    "lw_rated = meanRating[\"Ratings\"].idxmin()"
   ]
  },
  {
   "cell_type": "code",
   "execution_count": 42,
   "id": "e9a315d2",
   "metadata": {},
   "outputs": [
    {
     "data": {
      "text/html": [
       "<div>\n",
       "<style scoped>\n",
       "    .dataframe tbody tr th:only-of-type {\n",
       "        vertical-align: middle;\n",
       "    }\n",
       "\n",
       "    .dataframe tbody tr th {\n",
       "        vertical-align: top;\n",
       "    }\n",
       "\n",
       "    .dataframe thead th {\n",
       "        text-align: right;\n",
       "    }\n",
       "</style>\n",
       "<table border=\"1\" class=\"dataframe\">\n",
       "  <thead>\n",
       "    <tr style=\"text-align: right;\">\n",
       "      <th></th>\n",
       "      <th>Ratings</th>\n",
       "    </tr>\n",
       "    <tr>\n",
       "      <th>MovieID</th>\n",
       "      <th></th>\n",
       "    </tr>\n",
       "  </thead>\n",
       "  <tbody>\n",
       "    <tr>\n",
       "      <th>1</th>\n",
       "      <td>4.146846</td>\n",
       "    </tr>\n",
       "    <tr>\n",
       "      <th>2</th>\n",
       "      <td>3.201141</td>\n",
       "    </tr>\n",
       "    <tr>\n",
       "      <th>3</th>\n",
       "      <td>3.016736</td>\n",
       "    </tr>\n",
       "    <tr>\n",
       "      <th>4</th>\n",
       "      <td>2.729412</td>\n",
       "    </tr>\n",
       "    <tr>\n",
       "      <th>5</th>\n",
       "      <td>3.006757</td>\n",
       "    </tr>\n",
       "  </tbody>\n",
       "</table>\n",
       "</div>"
      ],
      "text/plain": [
       "          Ratings\n",
       "MovieID          \n",
       "1        4.146846\n",
       "2        3.201141\n",
       "3        3.016736\n",
       "4        2.729412\n",
       "5        3.006757"
      ]
     },
     "execution_count": 42,
     "metadata": {},
     "output_type": "execute_result"
    }
   ],
   "source": [
    "meanRating.head()"
   ]
  },
  {
   "cell_type": "code",
   "execution_count": 43,
   "id": "0d62fa4b",
   "metadata": {},
   "outputs": [
    {
     "data": {
      "text/plain": [
       "127"
      ]
     },
     "execution_count": 43,
     "metadata": {},
     "output_type": "execute_result"
    }
   ],
   "source": [
    "lw_rated"
   ]
  },
  {
   "cell_type": "code",
   "execution_count": 44,
   "id": "13e2b35a",
   "metadata": {},
   "outputs": [
    {
     "data": {
      "text/plain": [
       "1.0"
      ]
     },
     "execution_count": 44,
     "metadata": {},
     "output_type": "execute_result"
    }
   ],
   "source": [
    "meanRating[\"Ratings\"].min()\n"
   ]
  },
  {
   "cell_type": "code",
   "execution_count": 45,
   "id": "b5944cad",
   "metadata": {},
   "outputs": [
    {
     "data": {
      "text/html": [
       "<div>\n",
       "<style scoped>\n",
       "    .dataframe tbody tr th:only-of-type {\n",
       "        vertical-align: middle;\n",
       "    }\n",
       "\n",
       "    .dataframe tbody tr th {\n",
       "        vertical-align: top;\n",
       "    }\n",
       "\n",
       "    .dataframe thead th {\n",
       "        text-align: right;\n",
       "    }\n",
       "</style>\n",
       "<table border=\"1\" class=\"dataframe\">\n",
       "  <thead>\n",
       "    <tr style=\"text-align: right;\">\n",
       "      <th></th>\n",
       "      <th>UserID</th>\n",
       "      <th>MovieID</th>\n",
       "      <th>Ratings</th>\n",
       "      <th>Timestamp</th>\n",
       "      <th>Gender</th>\n",
       "      <th>Age</th>\n",
       "      <th>Ocupation</th>\n",
       "      <th>Zip_Code</th>\n",
       "      <th>Title</th>\n",
       "      <th>Genres</th>\n",
       "    </tr>\n",
       "  </thead>\n",
       "  <tbody>\n",
       "    <tr>\n",
       "      <th>1000198</th>\n",
       "      <td>5334</td>\n",
       "      <td>127</td>\n",
       "      <td>1</td>\n",
       "      <td>960795494</td>\n",
       "      <td>F</td>\n",
       "      <td>56</td>\n",
       "      <td>13</td>\n",
       "      <td>46140</td>\n",
       "      <td>Silence of the Palace, The (Saimt el Qusur) (1...</td>\n",
       "      <td>Drama</td>\n",
       "    </tr>\n",
       "  </tbody>\n",
       "</table>\n",
       "</div>"
      ],
      "text/plain": [
       "         UserID  MovieID  Ratings  Timestamp Gender  Age  Ocupation Zip_Code  \\\n",
       "1000198    5334      127        1  960795494      F   56         13    46140   \n",
       "\n",
       "                                                     Title Genres  \n",
       "1000198  Silence of the Palace, The (Saimt el Qusur) (1...  Drama  "
      ]
     },
     "execution_count": 45,
     "metadata": {},
     "output_type": "execute_result"
    }
   ],
   "source": [
    "total_data.loc[total_data[\"MovieID\"]==lw_rated]"
   ]
  },
  {
   "cell_type": "code",
   "execution_count": 46,
   "id": "32042599",
   "metadata": {},
   "outputs": [
    {
     "data": {
      "text/html": [
       "<div>\n",
       "<style scoped>\n",
       "    .dataframe tbody tr th:only-of-type {\n",
       "        vertical-align: middle;\n",
       "    }\n",
       "\n",
       "    .dataframe tbody tr th {\n",
       "        vertical-align: top;\n",
       "    }\n",
       "\n",
       "    .dataframe thead th {\n",
       "        text-align: right;\n",
       "    }\n",
       "</style>\n",
       "<table border=\"1\" class=\"dataframe\">\n",
       "  <thead>\n",
       "    <tr style=\"text-align: right;\">\n",
       "      <th></th>\n",
       "      <th>UserID</th>\n",
       "      <th>MovieID</th>\n",
       "      <th>Ratings</th>\n",
       "      <th>Timestamp</th>\n",
       "      <th>Gender</th>\n",
       "      <th>Age</th>\n",
       "      <th>Ocupation</th>\n",
       "      <th>Zip_Code</th>\n",
       "      <th>Title</th>\n",
       "      <th>Genres</th>\n",
       "    </tr>\n",
       "  </thead>\n",
       "  <tbody>\n",
       "    <tr>\n",
       "      <th>965717</th>\n",
       "      <td>149</td>\n",
       "      <td>787</td>\n",
       "      <td>5</td>\n",
       "      <td>977325719</td>\n",
       "      <td>M</td>\n",
       "      <td>25</td>\n",
       "      <td>1</td>\n",
       "      <td>29205</td>\n",
       "      <td>Gate of Heavenly Peace, The (1995)</td>\n",
       "      <td>Documentary</td>\n",
       "    </tr>\n",
       "    <tr>\n",
       "      <th>965718</th>\n",
       "      <td>2825</td>\n",
       "      <td>787</td>\n",
       "      <td>5</td>\n",
       "      <td>972610193</td>\n",
       "      <td>F</td>\n",
       "      <td>25</td>\n",
       "      <td>20</td>\n",
       "      <td>94014</td>\n",
       "      <td>Gate of Heavenly Peace, The (1995)</td>\n",
       "      <td>Documentary</td>\n",
       "    </tr>\n",
       "    <tr>\n",
       "      <th>965719</th>\n",
       "      <td>2872</td>\n",
       "      <td>787</td>\n",
       "      <td>5</td>\n",
       "      <td>972423586</td>\n",
       "      <td>M</td>\n",
       "      <td>25</td>\n",
       "      <td>20</td>\n",
       "      <td>94014</td>\n",
       "      <td>Gate of Heavenly Peace, The (1995)</td>\n",
       "      <td>Documentary</td>\n",
       "    </tr>\n",
       "  </tbody>\n",
       "</table>\n",
       "</div>"
      ],
      "text/plain": [
       "        UserID  MovieID  Ratings  Timestamp Gender  Age  Ocupation Zip_Code  \\\n",
       "965717     149      787        5  977325719      M   25          1    29205   \n",
       "965718    2825      787        5  972610193      F   25         20    94014   \n",
       "965719    2872      787        5  972423586      M   25         20    94014   \n",
       "\n",
       "                                     Title       Genres  \n",
       "965717  Gate of Heavenly Peace, The (1995)  Documentary  \n",
       "965718  Gate of Heavenly Peace, The (1995)  Documentary  \n",
       "965719  Gate of Heavenly Peace, The (1995)  Documentary  "
      ]
     },
     "execution_count": 46,
     "metadata": {},
     "output_type": "execute_result"
    }
   ],
   "source": [
    "hg_rated = meanRating[\"Ratings\"].idxmax()\n",
    "total_data.loc[total_data[\"MovieID\"]==hg_rated]"
   ]
  },
  {
   "cell_type": "code",
   "execution_count": 47,
   "id": "a642afc2",
   "metadata": {},
   "outputs": [
    {
     "data": {
      "text/plain": [
       "787"
      ]
     },
     "execution_count": 47,
     "metadata": {},
     "output_type": "execute_result"
    }
   ],
   "source": [
    "hg_rated"
   ]
  },
  {
   "cell_type": "code",
   "execution_count": 48,
   "id": "f70b86a9",
   "metadata": {},
   "outputs": [
    {
     "data": {
      "text/html": [
       "<div>\n",
       "<style scoped>\n",
       "    .dataframe tbody tr th:only-of-type {\n",
       "        vertical-align: middle;\n",
       "    }\n",
       "\n",
       "    .dataframe tbody tr th {\n",
       "        vertical-align: top;\n",
       "    }\n",
       "\n",
       "    .dataframe thead th {\n",
       "        text-align: right;\n",
       "    }\n",
       "</style>\n",
       "<table border=\"1\" class=\"dataframe\">\n",
       "  <thead>\n",
       "    <tr style=\"text-align: right;\">\n",
       "      <th></th>\n",
       "      <th>Ratings</th>\n",
       "    </tr>\n",
       "    <tr>\n",
       "      <th>MovieID</th>\n",
       "      <th></th>\n",
       "    </tr>\n",
       "  </thead>\n",
       "  <tbody>\n",
       "    <tr>\n",
       "      <th>1430</th>\n",
       "      <td>1.000000</td>\n",
       "    </tr>\n",
       "    <tr>\n",
       "      <th>1165</th>\n",
       "      <td>1.000000</td>\n",
       "    </tr>\n",
       "    <tr>\n",
       "      <th>641</th>\n",
       "      <td>1.000000</td>\n",
       "    </tr>\n",
       "    <tr>\n",
       "      <th>3651</th>\n",
       "      <td>1.000000</td>\n",
       "    </tr>\n",
       "    <tr>\n",
       "      <th>3228</th>\n",
       "      <td>1.000000</td>\n",
       "    </tr>\n",
       "    <tr>\n",
       "      <th>684</th>\n",
       "      <td>1.000000</td>\n",
       "    </tr>\n",
       "    <tr>\n",
       "      <th>655</th>\n",
       "      <td>1.000000</td>\n",
       "    </tr>\n",
       "    <tr>\n",
       "      <th>2845</th>\n",
       "      <td>1.000000</td>\n",
       "    </tr>\n",
       "    <tr>\n",
       "      <th>3123</th>\n",
       "      <td>1.000000</td>\n",
       "    </tr>\n",
       "    <tr>\n",
       "      <th>127</th>\n",
       "      <td>1.000000</td>\n",
       "    </tr>\n",
       "    <tr>\n",
       "      <th>895</th>\n",
       "      <td>1.000000</td>\n",
       "    </tr>\n",
       "    <tr>\n",
       "      <th>2039</th>\n",
       "      <td>1.000000</td>\n",
       "    </tr>\n",
       "    <tr>\n",
       "      <th>826</th>\n",
       "      <td>1.000000</td>\n",
       "    </tr>\n",
       "    <tr>\n",
       "      <th>1311</th>\n",
       "      <td>1.000000</td>\n",
       "    </tr>\n",
       "    <tr>\n",
       "      <th>3493</th>\n",
       "      <td>1.000000</td>\n",
       "    </tr>\n",
       "    <tr>\n",
       "      <th>3904</th>\n",
       "      <td>1.000000</td>\n",
       "    </tr>\n",
       "    <tr>\n",
       "      <th>843</th>\n",
       "      <td>1.000000</td>\n",
       "    </tr>\n",
       "    <tr>\n",
       "      <th>3376</th>\n",
       "      <td>1.000000</td>\n",
       "    </tr>\n",
       "    <tr>\n",
       "      <th>3209</th>\n",
       "      <td>1.000000</td>\n",
       "    </tr>\n",
       "    <tr>\n",
       "      <th>3460</th>\n",
       "      <td>1.000000</td>\n",
       "    </tr>\n",
       "    <tr>\n",
       "      <th>1386</th>\n",
       "      <td>1.000000</td>\n",
       "    </tr>\n",
       "    <tr>\n",
       "      <th>142</th>\n",
       "      <td>1.000000</td>\n",
       "    </tr>\n",
       "    <tr>\n",
       "      <th>2217</th>\n",
       "      <td>1.000000</td>\n",
       "    </tr>\n",
       "    <tr>\n",
       "      <th>3312</th>\n",
       "      <td>1.000000</td>\n",
       "    </tr>\n",
       "    <tr>\n",
       "      <th>2213</th>\n",
       "      <td>1.000000</td>\n",
       "    </tr>\n",
       "    <tr>\n",
       "      <th>133</th>\n",
       "      <td>1.000000</td>\n",
       "    </tr>\n",
       "    <tr>\n",
       "      <th>3202</th>\n",
       "      <td>1.000000</td>\n",
       "    </tr>\n",
       "    <tr>\n",
       "      <th>1115</th>\n",
       "      <td>1.000000</td>\n",
       "    </tr>\n",
       "    <tr>\n",
       "      <th>730</th>\n",
       "      <td>1.000000</td>\n",
       "    </tr>\n",
       "    <tr>\n",
       "      <th>1142</th>\n",
       "      <td>1.000000</td>\n",
       "    </tr>\n",
       "    <tr>\n",
       "      <th>3237</th>\n",
       "      <td>1.000000</td>\n",
       "    </tr>\n",
       "    <tr>\n",
       "      <th>3574</th>\n",
       "      <td>1.058824</td>\n",
       "    </tr>\n",
       "    <tr>\n",
       "      <th>3027</th>\n",
       "      <td>1.142857</td>\n",
       "    </tr>\n",
       "    <tr>\n",
       "      <th>3166</th>\n",
       "      <td>1.166667</td>\n",
       "    </tr>\n",
       "    <tr>\n",
       "      <th>1720</th>\n",
       "      <td>1.285714</td>\n",
       "    </tr>\n",
       "    <tr>\n",
       "      <th>1495</th>\n",
       "      <td>1.318182</td>\n",
       "    </tr>\n",
       "    <tr>\n",
       "      <th>3762</th>\n",
       "      <td>1.333333</td>\n",
       "    </tr>\n",
       "    <tr>\n",
       "      <th>1739</th>\n",
       "      <td>1.361702</td>\n",
       "    </tr>\n",
       "    <tr>\n",
       "      <th>1323</th>\n",
       "      <td>1.372093</td>\n",
       "    </tr>\n",
       "    <tr>\n",
       "      <th>3573</th>\n",
       "      <td>1.461538</td>\n",
       "    </tr>\n",
       "  </tbody>\n",
       "</table>\n",
       "</div>"
      ],
      "text/plain": [
       "          Ratings\n",
       "MovieID          \n",
       "1430     1.000000\n",
       "1165     1.000000\n",
       "641      1.000000\n",
       "3651     1.000000\n",
       "3228     1.000000\n",
       "684      1.000000\n",
       "655      1.000000\n",
       "2845     1.000000\n",
       "3123     1.000000\n",
       "127      1.000000\n",
       "895      1.000000\n",
       "2039     1.000000\n",
       "826      1.000000\n",
       "1311     1.000000\n",
       "3493     1.000000\n",
       "3904     1.000000\n",
       "843      1.000000\n",
       "3376     1.000000\n",
       "3209     1.000000\n",
       "3460     1.000000\n",
       "1386     1.000000\n",
       "142      1.000000\n",
       "2217     1.000000\n",
       "3312     1.000000\n",
       "2213     1.000000\n",
       "133      1.000000\n",
       "3202     1.000000\n",
       "1115     1.000000\n",
       "730      1.000000\n",
       "1142     1.000000\n",
       "3237     1.000000\n",
       "3574     1.058824\n",
       "3027     1.142857\n",
       "3166     1.166667\n",
       "1720     1.285714\n",
       "1495     1.318182\n",
       "3762     1.333333\n",
       "1739     1.361702\n",
       "1323     1.372093\n",
       "3573     1.461538"
      ]
     },
     "execution_count": 48,
     "metadata": {},
     "output_type": "execute_result"
    }
   ],
   "source": [
    "meanRating.sort_values(\"Ratings\",ascending=True).head(40)"
   ]
  },
  {
   "cell_type": "code",
   "execution_count": 49,
   "id": "73bf1623",
   "metadata": {},
   "outputs": [
    {
     "data": {
      "text/html": [
       "<div>\n",
       "<style scoped>\n",
       "    .dataframe tbody tr th:only-of-type {\n",
       "        vertical-align: middle;\n",
       "    }\n",
       "\n",
       "    .dataframe tbody tr th {\n",
       "        vertical-align: top;\n",
       "    }\n",
       "\n",
       "    .dataframe thead th {\n",
       "        text-align: right;\n",
       "    }\n",
       "</style>\n",
       "<table border=\"1\" class=\"dataframe\">\n",
       "  <thead>\n",
       "    <tr style=\"text-align: right;\">\n",
       "      <th></th>\n",
       "      <th>Ratings</th>\n",
       "    </tr>\n",
       "    <tr>\n",
       "      <th>MovieID</th>\n",
       "      <th></th>\n",
       "    </tr>\n",
       "  </thead>\n",
       "  <tbody>\n",
       "    <tr>\n",
       "      <th>989</th>\n",
       "      <td>5.000000</td>\n",
       "    </tr>\n",
       "    <tr>\n",
       "      <th>3881</th>\n",
       "      <td>5.000000</td>\n",
       "    </tr>\n",
       "    <tr>\n",
       "      <th>1830</th>\n",
       "      <td>5.000000</td>\n",
       "    </tr>\n",
       "    <tr>\n",
       "      <th>3382</th>\n",
       "      <td>5.000000</td>\n",
       "    </tr>\n",
       "    <tr>\n",
       "      <th>787</th>\n",
       "      <td>5.000000</td>\n",
       "    </tr>\n",
       "    <tr>\n",
       "      <th>3280</th>\n",
       "      <td>5.000000</td>\n",
       "    </tr>\n",
       "    <tr>\n",
       "      <th>3607</th>\n",
       "      <td>5.000000</td>\n",
       "    </tr>\n",
       "    <tr>\n",
       "      <th>3233</th>\n",
       "      <td>5.000000</td>\n",
       "    </tr>\n",
       "    <tr>\n",
       "      <th>3172</th>\n",
       "      <td>5.000000</td>\n",
       "    </tr>\n",
       "    <tr>\n",
       "      <th>3656</th>\n",
       "      <td>5.000000</td>\n",
       "    </tr>\n",
       "    <tr>\n",
       "      <th>3245</th>\n",
       "      <td>4.800000</td>\n",
       "    </tr>\n",
       "    <tr>\n",
       "      <th>53</th>\n",
       "      <td>4.750000</td>\n",
       "    </tr>\n",
       "    <tr>\n",
       "      <th>2503</th>\n",
       "      <td>4.666667</td>\n",
       "    </tr>\n",
       "    <tr>\n",
       "      <th>2905</th>\n",
       "      <td>4.608696</td>\n",
       "    </tr>\n",
       "    <tr>\n",
       "      <th>2019</th>\n",
       "      <td>4.560510</td>\n",
       "    </tr>\n",
       "    <tr>\n",
       "      <th>318</th>\n",
       "      <td>4.554558</td>\n",
       "    </tr>\n",
       "    <tr>\n",
       "      <th>858</th>\n",
       "      <td>4.524966</td>\n",
       "    </tr>\n",
       "    <tr>\n",
       "      <th>745</th>\n",
       "      <td>4.520548</td>\n",
       "    </tr>\n",
       "    <tr>\n",
       "      <th>50</th>\n",
       "      <td>4.517106</td>\n",
       "    </tr>\n",
       "    <tr>\n",
       "      <th>527</th>\n",
       "      <td>4.510417</td>\n",
       "    </tr>\n",
       "  </tbody>\n",
       "</table>\n",
       "</div>"
      ],
      "text/plain": [
       "          Ratings\n",
       "MovieID          \n",
       "989      5.000000\n",
       "3881     5.000000\n",
       "1830     5.000000\n",
       "3382     5.000000\n",
       "787      5.000000\n",
       "3280     5.000000\n",
       "3607     5.000000\n",
       "3233     5.000000\n",
       "3172     5.000000\n",
       "3656     5.000000\n",
       "3245     4.800000\n",
       "53       4.750000\n",
       "2503     4.666667\n",
       "2905     4.608696\n",
       "2019     4.560510\n",
       "318      4.554558\n",
       "858      4.524966\n",
       "745      4.520548\n",
       "50       4.517106\n",
       "527      4.510417"
      ]
     },
     "execution_count": 49,
     "metadata": {},
     "output_type": "execute_result"
    }
   ],
   "source": [
    "meanRating.sort_values(\"Ratings\",ascending=False).head(20)"
   ]
  },
  {
   "cell_type": "markdown",
   "id": "04c32a0d",
   "metadata": {},
   "source": [
    "<h3>Conclusiones</h3>\n",
    "\n",
    "<ul>\n",
    "    <li>La pelicula con peor calificacion promedio fue Silence of the Palace</li>\n",
    "    <li>La pelicula con mejor promedio de calificacion fue Gate of Heavenly peace</li>\n",
    "\n",
    "</ul>"
   ]
  },
  {
   "cell_type": "markdown",
   "id": "049e7e45",
   "metadata": {},
   "source": [
    "---"
   ]
  },
  {
   "cell_type": "markdown",
   "id": "72acd806",
   "metadata": {},
   "source": [
    "<h2>Media Bayesiana</h2>"
   ]
  },
  {
   "cell_type": "markdown",
   "id": "d9305a76",
   "metadata": {},
   "source": [
    "---"
   ]
  },
  {
   "cell_type": "markdown",
   "id": "2d7777aa",
   "metadata": {},
   "source": [
    "$R_i = \\frac{C*m+ \\sum(reviews)}{C+N}$"
   ]
  },
  {
   "cell_type": "markdown",
   "id": "9c3451e4",
   "metadata": {},
   "source": [
    "<ul>\n",
    "    <li>C = Representa la confianza</li>\n",
    "    <li>N = Numero total de reviews para la pelicula n</li>\n",
    "</ul>"
   ]
  },
  {
   "cell_type": "code",
   "execution_count": 50,
   "id": "6bc693ae",
   "metadata": {},
   "outputs": [],
   "source": [
    "movie_sts = total_data.groupby(\"MovieID\")[[\"Ratings\"]].agg([\"count\",\"mean\"])\n"
   ]
  },
  {
   "cell_type": "code",
   "execution_count": 51,
   "id": "5b9d017d",
   "metadata": {},
   "outputs": [
    {
     "data": {
      "text/html": [
       "<div>\n",
       "<style scoped>\n",
       "    .dataframe tbody tr th:only-of-type {\n",
       "        vertical-align: middle;\n",
       "    }\n",
       "\n",
       "    .dataframe tbody tr th {\n",
       "        vertical-align: top;\n",
       "    }\n",
       "\n",
       "    .dataframe thead th {\n",
       "        text-align: right;\n",
       "    }\n",
       "</style>\n",
       "<table border=\"1\" class=\"dataframe\">\n",
       "  <thead>\n",
       "    <tr style=\"text-align: right;\">\n",
       "      <th></th>\n",
       "      <th>count</th>\n",
       "      <th>mean</th>\n",
       "    </tr>\n",
       "    <tr>\n",
       "      <th>MovieID</th>\n",
       "      <th></th>\n",
       "      <th></th>\n",
       "    </tr>\n",
       "  </thead>\n",
       "  <tbody>\n",
       "    <tr>\n",
       "      <th>1</th>\n",
       "      <td>2077</td>\n",
       "      <td>4.146846</td>\n",
       "    </tr>\n",
       "    <tr>\n",
       "      <th>2</th>\n",
       "      <td>701</td>\n",
       "      <td>3.201141</td>\n",
       "    </tr>\n",
       "    <tr>\n",
       "      <th>3</th>\n",
       "      <td>478</td>\n",
       "      <td>3.016736</td>\n",
       "    </tr>\n",
       "    <tr>\n",
       "      <th>4</th>\n",
       "      <td>170</td>\n",
       "      <td>2.729412</td>\n",
       "    </tr>\n",
       "    <tr>\n",
       "      <th>5</th>\n",
       "      <td>296</td>\n",
       "      <td>3.006757</td>\n",
       "    </tr>\n",
       "    <tr>\n",
       "      <th>...</th>\n",
       "      <td>...</td>\n",
       "      <td>...</td>\n",
       "    </tr>\n",
       "    <tr>\n",
       "      <th>3948</th>\n",
       "      <td>862</td>\n",
       "      <td>3.635731</td>\n",
       "    </tr>\n",
       "    <tr>\n",
       "      <th>3949</th>\n",
       "      <td>304</td>\n",
       "      <td>4.115132</td>\n",
       "    </tr>\n",
       "    <tr>\n",
       "      <th>3950</th>\n",
       "      <td>54</td>\n",
       "      <td>3.666667</td>\n",
       "    </tr>\n",
       "    <tr>\n",
       "      <th>3951</th>\n",
       "      <td>40</td>\n",
       "      <td>3.900000</td>\n",
       "    </tr>\n",
       "    <tr>\n",
       "      <th>3952</th>\n",
       "      <td>388</td>\n",
       "      <td>3.780928</td>\n",
       "    </tr>\n",
       "  </tbody>\n",
       "</table>\n",
       "<p>3706 rows × 2 columns</p>\n",
       "</div>"
      ],
      "text/plain": [
       "         count      mean\n",
       "MovieID                 \n",
       "1         2077  4.146846\n",
       "2          701  3.201141\n",
       "3          478  3.016736\n",
       "4          170  2.729412\n",
       "5          296  3.006757\n",
       "...        ...       ...\n",
       "3948       862  3.635731\n",
       "3949       304  4.115132\n",
       "3950        54  3.666667\n",
       "3951        40  3.900000\n",
       "3952       388  3.780928\n",
       "\n",
       "[3706 rows x 2 columns]"
      ]
     },
     "execution_count": 51,
     "metadata": {},
     "output_type": "execute_result"
    }
   ],
   "source": [
    "movie_sts.columns=movie_sts.columns.droplevel()\n",
    "movie_sts"
   ]
  },
  {
   "cell_type": "code",
   "execution_count": 52,
   "id": "d8573e55",
   "metadata": {},
   "outputs": [],
   "source": [
    "C = movie_sts[\"count\"].mean()"
   ]
  },
  {
   "cell_type": "code",
   "execution_count": 94,
   "id": "c9cb0041",
   "metadata": {},
   "outputs": [
    {
     "data": {
      "text/plain": [
       "269.88909875876953"
      ]
     },
     "execution_count": 94,
     "metadata": {},
     "output_type": "execute_result"
    }
   ],
   "source": [
    "C"
   ]
  },
  {
   "cell_type": "code",
   "execution_count": 53,
   "id": "cc3de393",
   "metadata": {},
   "outputs": [],
   "source": [
    "m = movie_sts[\"mean\"].mean()"
   ]
  },
  {
   "cell_type": "code",
   "execution_count": 95,
   "id": "03b675a0",
   "metadata": {},
   "outputs": [
    {
     "data": {
      "text/plain": [
       "3.2388921779108912"
      ]
     },
     "execution_count": 95,
     "metadata": {},
     "output_type": "execute_result"
    }
   ],
   "source": [
    "m"
   ]
  },
  {
   "cell_type": "code",
   "execution_count": 54,
   "id": "1b4c7a6e",
   "metadata": {},
   "outputs": [],
   "source": [
    "def bayesian_average(rating):\n",
    "    bayesianVal_avg = (C*m+rating.sum())/(C+rating.count())\n",
    "    return bayesianVal_avg"
   ]
  },
  {
   "cell_type": "code",
   "execution_count": 55,
   "id": "d9f819ca",
   "metadata": {},
   "outputs": [],
   "source": [
    "bayesianRatings_avg = total_data.groupby(\"MovieID\")[\"Ratings\"].agg(bayesian_average).reset_index()\n",
    "bayesianRatings_avg.columns= [\"MovieID\",\"bayesian_average\"]\n",
    "movie_sts= movie_sts.merge(bayesianRatings_avg,on=\"MovieID\")"
   ]
  },
  {
   "cell_type": "code",
   "execution_count": 56,
   "id": "fb6bbbbc",
   "metadata": {},
   "outputs": [
    {
     "data": {
      "text/html": [
       "<div>\n",
       "<style scoped>\n",
       "    .dataframe tbody tr th:only-of-type {\n",
       "        vertical-align: middle;\n",
       "    }\n",
       "\n",
       "    .dataframe tbody tr th {\n",
       "        vertical-align: top;\n",
       "    }\n",
       "\n",
       "    .dataframe thead th {\n",
       "        text-align: right;\n",
       "    }\n",
       "</style>\n",
       "<table border=\"1\" class=\"dataframe\">\n",
       "  <thead>\n",
       "    <tr style=\"text-align: right;\">\n",
       "      <th></th>\n",
       "      <th>MovieID</th>\n",
       "      <th>count</th>\n",
       "      <th>mean</th>\n",
       "      <th>bayesian_average</th>\n",
       "    </tr>\n",
       "  </thead>\n",
       "  <tbody>\n",
       "    <tr>\n",
       "      <th>0</th>\n",
       "      <td>1</td>\n",
       "      <td>2077</td>\n",
       "      <td>4.146846</td>\n",
       "      <td>4.042433</td>\n",
       "    </tr>\n",
       "    <tr>\n",
       "      <th>1</th>\n",
       "      <td>2</td>\n",
       "      <td>701</td>\n",
       "      <td>3.201141</td>\n",
       "      <td>3.211635</td>\n",
       "    </tr>\n",
       "    <tr>\n",
       "      <th>2</th>\n",
       "      <td>3</td>\n",
       "      <td>478</td>\n",
       "      <td>3.016736</td>\n",
       "      <td>3.096905</td>\n",
       "    </tr>\n",
       "    <tr>\n",
       "      <th>3</th>\n",
       "      <td>4</td>\n",
       "      <td>170</td>\n",
       "      <td>2.729412</td>\n",
       "      <td>3.041998</td>\n",
       "    </tr>\n",
       "    <tr>\n",
       "      <th>4</th>\n",
       "      <td>5</td>\n",
       "      <td>296</td>\n",
       "      <td>3.006757</td>\n",
       "      <td>3.117469</td>\n",
       "    </tr>\n",
       "  </tbody>\n",
       "</table>\n",
       "</div>"
      ],
      "text/plain": [
       "   MovieID  count      mean  bayesian_average\n",
       "0        1   2077  4.146846          4.042433\n",
       "1        2    701  3.201141          3.211635\n",
       "2        3    478  3.016736          3.096905\n",
       "3        4    170  2.729412          3.041998\n",
       "4        5    296  3.006757          3.117469"
      ]
     },
     "execution_count": 56,
     "metadata": {},
     "output_type": "execute_result"
    }
   ],
   "source": [
    "movie_sts.head()"
   ]
  },
  {
   "cell_type": "code",
   "execution_count": 57,
   "id": "1fede8b1",
   "metadata": {},
   "outputs": [
    {
     "data": {
      "text/html": [
       "<div>\n",
       "<style scoped>\n",
       "    .dataframe tbody tr th:only-of-type {\n",
       "        vertical-align: middle;\n",
       "    }\n",
       "\n",
       "    .dataframe tbody tr th {\n",
       "        vertical-align: top;\n",
       "    }\n",
       "\n",
       "    .dataframe thead th {\n",
       "        text-align: right;\n",
       "    }\n",
       "</style>\n",
       "<table border=\"1\" class=\"dataframe\">\n",
       "  <thead>\n",
       "    <tr style=\"text-align: right;\">\n",
       "      <th></th>\n",
       "      <th>MovieID</th>\n",
       "      <th>count</th>\n",
       "      <th>mean</th>\n",
       "      <th>bayesian_average</th>\n",
       "    </tr>\n",
       "  </thead>\n",
       "  <tbody>\n",
       "    <tr>\n",
       "      <th>3353</th>\n",
       "      <td>3593</td>\n",
       "      <td>342</td>\n",
       "      <td>1.611111</td>\n",
       "      <td>2.329085</td>\n",
       "    </tr>\n",
       "    <tr>\n",
       "      <th>2496</th>\n",
       "      <td>2701</td>\n",
       "      <td>902</td>\n",
       "      <td>2.158537</td>\n",
       "      <td>2.407345</td>\n",
       "    </tr>\n",
       "    <tr>\n",
       "      <th>1432</th>\n",
       "      <td>1556</td>\n",
       "      <td>367</td>\n",
       "      <td>1.871935</td>\n",
       "      <td>2.451199</td>\n",
       "    </tr>\n",
       "    <tr>\n",
       "      <th>532</th>\n",
       "      <td>546</td>\n",
       "      <td>350</td>\n",
       "      <td>1.874286</td>\n",
       "      <td>2.468412</td>\n",
       "    </tr>\n",
       "    <tr>\n",
       "      <th>2441</th>\n",
       "      <td>2643</td>\n",
       "      <td>332</td>\n",
       "      <td>1.888554</td>\n",
       "      <td>2.494050</td>\n",
       "    </tr>\n",
       "  </tbody>\n",
       "</table>\n",
       "</div>"
      ],
      "text/plain": [
       "      MovieID  count      mean  bayesian_average\n",
       "3353     3593    342  1.611111          2.329085\n",
       "2496     2701    902  2.158537          2.407345\n",
       "1432     1556    367  1.871935          2.451199\n",
       "532       546    350  1.874286          2.468412\n",
       "2441     2643    332  1.888554          2.494050"
      ]
     },
     "execution_count": 57,
     "metadata": {},
     "output_type": "execute_result"
    }
   ],
   "source": [
    "movie_sts.sort_values(\"bayesian_average\",ascending=True).head()\n"
   ]
  },
  {
   "cell_type": "code",
   "execution_count": 58,
   "id": "6ca3cedf",
   "metadata": {},
   "outputs": [
    {
     "data": {
      "text/html": [
       "<div>\n",
       "<style scoped>\n",
       "    .dataframe tbody tr th:only-of-type {\n",
       "        vertical-align: middle;\n",
       "    }\n",
       "\n",
       "    .dataframe tbody tr th {\n",
       "        vertical-align: top;\n",
       "    }\n",
       "\n",
       "    .dataframe thead th {\n",
       "        text-align: right;\n",
       "    }\n",
       "</style>\n",
       "<table border=\"1\" class=\"dataframe\">\n",
       "  <thead>\n",
       "    <tr style=\"text-align: right;\">\n",
       "      <th></th>\n",
       "      <th>MovieID</th>\n",
       "      <th>count</th>\n",
       "      <th>mean</th>\n",
       "      <th>bayesian_average</th>\n",
       "    </tr>\n",
       "  </thead>\n",
       "  <tbody>\n",
       "    <tr>\n",
       "      <th>309</th>\n",
       "      <td>318</td>\n",
       "      <td>2227</td>\n",
       "      <td>4.554558</td>\n",
       "      <td>4.412347</td>\n",
       "    </tr>\n",
       "    <tr>\n",
       "      <th>802</th>\n",
       "      <td>858</td>\n",
       "      <td>2223</td>\n",
       "      <td>4.524966</td>\n",
       "      <td>4.385731</td>\n",
       "    </tr>\n",
       "    <tr>\n",
       "      <th>513</th>\n",
       "      <td>527</td>\n",
       "      <td>2304</td>\n",
       "      <td>4.510417</td>\n",
       "      <td>4.377089</td>\n",
       "    </tr>\n",
       "    <tr>\n",
       "      <th>1108</th>\n",
       "      <td>1198</td>\n",
       "      <td>2514</td>\n",
       "      <td>4.477725</td>\n",
       "      <td>4.357624</td>\n",
       "    </tr>\n",
       "    <tr>\n",
       "      <th>253</th>\n",
       "      <td>260</td>\n",
       "      <td>2991</td>\n",
       "      <td>4.453694</td>\n",
       "      <td>4.353151</td>\n",
       "    </tr>\n",
       "  </tbody>\n",
       "</table>\n",
       "</div>"
      ],
      "text/plain": [
       "      MovieID  count      mean  bayesian_average\n",
       "309       318   2227  4.554558          4.412347\n",
       "802       858   2223  4.524966          4.385731\n",
       "513       527   2304  4.510417          4.377089\n",
       "1108     1198   2514  4.477725          4.357624\n",
       "253       260   2991  4.453694          4.353151"
      ]
     },
     "execution_count": 58,
     "metadata": {},
     "output_type": "execute_result"
    }
   ],
   "source": [
    "movie_sts.sort_values(\"bayesian_average\",ascending=False).head()"
   ]
  },
  {
   "cell_type": "code",
   "execution_count": 79,
   "id": "83b23c92",
   "metadata": {},
   "outputs": [
    {
     "data": {
      "text/plain": [
       "3706"
      ]
     },
     "execution_count": 79,
     "metadata": {},
     "output_type": "execute_result"
    }
   ],
   "source": [
    "len(movie_sts)"
   ]
  },
  {
   "cell_type": "code",
   "execution_count": 93,
   "id": "a75a3c79",
   "metadata": {},
   "outputs": [
    {
     "data": {
      "image/png": "[encoded data removed]",
      "text/plain": [
       "<Figure size 1296x504 with 1 Axes>"
      ]
     },
     "metadata": {},
     "output_type": "display_data"
    }
   ],
   "source": [
    "plt.figure(figsize=(18,7))\n",
    "plt.plot(movie_sts[\"MovieID\"],movie_sts[\"mean\"],\"o\",label=\"Media estadistica\",color=\"gray\")\n",
    "\n",
    "plt.plot(movie_sts[\"MovieID\"],movie_sts[\"bayesian_average\"],\"o\",label=\"Media bayesiana\", color=\"orange\")\n",
    "plt.grid(visible = True, color ='grey',linestyle ='-.', linewidth = 0.5,alpha = 0.2)\n",
    "plt.xticks(fontsize=15,color='black')\n",
    "plt.yticks(fontsize=15,color='black')\n",
    "\n",
    "plt.xlabel(\"Movie_ID\",fontLabel)\n",
    "plt.ylabel('Rating',fontLabel)\n",
    "plt.title(\"Media Estadistica vs Media Bayesiana\",fontLabel)\n",
    "plt.show()"
   ]
  },
  {
   "cell_type": "markdown",
   "id": "a47fc4de",
   "metadata": {},
   "source": [
    "<h3>Matriz de Usuario vs Peliculas</h3>\n"
   ]
  },
  {
   "cell_type": "code",
   "execution_count": 59,
   "id": "6fa3a163",
   "metadata": {},
   "outputs": [],
   "source": [
    "def create_sparse_matriz(dataframe):\n",
    "    nUsr_unq = dataframe[\"UserID\"].nunique()\n",
    "    nMov_unq = dataframe[\"MovieID\"].nunique()\n",
    "    usr_map = dict(zip(np.unique(dataframe[\"UserID\"]),list(range(nUsr_unq))))\n",
    "    mov_map = dict(zip(np.unique(dataframe[\"MovieID\"]),list(range(nMov_unq))))\n",
    "    \n",
    "    usr_inver_map = dict(zip(list(range(nUsr_unq)),np.unique(dataframe[\"UserID\"])))\n",
    "    mov_inver_map = dict(zip(list(range(nMov_unq)),np.unique(dataframe[\"MovieID\"])))\n",
    "    \n",
    "    \n",
    "    usr_indx = [usr_map[i] for i in dataframe[\"UserID\"]]\n",
    "    mov_indx = [mov_map[i] for i in dataframe[\"MovieID\"]]\n",
    "    sparse_mx = csr_matrix((dataframe[\"Ratings\"],(mov_indx,usr_indx)),shape=(nMov_unq,nUsr_unq))\n",
    "    \n",
    "    return sparse_mx,usr_map,mov_map,usr_inver_map,mov_inver_map"
   ]
  },
  {
   "cell_type": "code",
   "execution_count": 60,
   "id": "f72fe4c3",
   "metadata": {},
   "outputs": [],
   "source": [
    "sparse_mx,usr_map,mov_map,usr_inver_map,mov_inver_map = create_sparse_matriz(total_data)"
   ]
  },
  {
   "cell_type": "code",
   "execution_count": 61,
   "id": "0672cd19",
   "metadata": {},
   "outputs": [
    {
     "data": {
      "text/plain": [
       "(3706, 6040)"
      ]
     },
     "execution_count": 61,
     "metadata": {},
     "output_type": "execute_result"
    }
   ],
   "source": [
    "sparse_mx.shape"
   ]
  },
  {
   "cell_type": "code",
   "execution_count": 62,
   "id": "8d5e63dc",
   "metadata": {},
   "outputs": [],
   "source": [
    "save_npz(\"Datasets/ml-1m/usr_mtx_sparce.npz\",sparse_mx)"
   ]
  },
  {
   "cell_type": "markdown",
   "id": "8a8220f7",
   "metadata": {},
   "source": [
    "<h3>K-Nearest Neighbours</h3>\n",
    "Minima distancia entre nodos"
   ]
  },
  {
   "cell_type": "markdown",
   "id": "db1a355e",
   "metadata": {},
   "source": [
    "<p>Algoritmo supervisado y no parametrico,</p>"
   ]
  },
  {
   "cell_type": "markdown",
   "id": "7759e529",
   "metadata": {},
   "source": [
    "<h5>Metodos para medir distancias entre nodos mediante KNN</h5>\n",
    "<ul>\n",
    "    <li> Similitud del coseno</li>\n",
    "    <li> Distancia Euclidiana</li>\n",
    "    <li> Distancia de Manhattan </li>\n",
    "    <li> Correlacion de Pearson</li>\n",
    "\n",
    "</ul>"
   ]
  },
  {
   "cell_type": "code",
   "execution_count": 63,
   "id": "dc8def4d",
   "metadata": {},
   "outputs": [],
   "source": [
    "def knn_recomendation(movieID,sparse_mx,k,metric=\"cosine\",show_distance=False):\n",
    "    #k=Numero de recomendaciones\n",
    "    \n",
    "    neighboursID = []\n",
    "    mov_ind = mov_map[movieID]\n",
    "    mov_vector = sparse_mx[mov_ind]\n",
    "    k = k + 1\n",
    "    knn = NearestNeighbors(n_neighbors=k,algorithm=\"brute\",metric=metric)\n",
    "    knn.fit(sparse_mx)\n",
    "    if isinstance(mov_vector,(np.ndarray)):\n",
    "        mov_vector = mov_vector.reshape(1,-1)\n",
    "    neighbour = knn.kneighbors(mov_vector,return_distance=show_distance)\n",
    "    for i in range(0,k):\n",
    "        n=neighbour.item(i)\n",
    "        neighboursID.append(mov_inver_map[n])\n",
    "    neighboursID.pop(0)\n",
    "    return neighboursID"
   ]
  },
  {
   "cell_type": "code",
   "execution_count": 97,
   "id": "58495814",
   "metadata": {},
   "outputs": [
    {
     "name": "stdout",
     "output_type": "stream",
     "text": [
      " Pelicula vista originalmente :::::::::>>>>>> Dracula: Dead and Loving It (1995)\n",
      "***************************************************************************\n",
      "Peliculas Recomendadas\n",
      "***************************************************************************\n",
      "Spy Hard (1996)\n",
      "Bio-Dome (1996)\n",
      "Mafia! (1998)\n",
      "Gremlins 2: The New Batch (1990)\n",
      "Down Periscope (1996)\n",
      "Tales from the Crypt Presents: Bordello of Blood (1996)\n",
      "Vampires (1998)\n",
      "Robin Hood: Men in Tights (1993)\n",
      "American Werewolf in Paris, An (1997)\n",
      "Bats (1999)\n"
     ]
    }
   ],
   "source": [
    "movies_titles = dict(zip(data_movie_copy[\"MovieID\"],data_movie_copy[\"Title\"]))\n",
    "\n",
    "#Ingreso del ID de la pelicula para prediccion.\n",
    "movie_id = 12\n",
    "##############################################\n",
    "\n",
    "\n",
    "movies_recomendation_final = knn_recomendation(movie_id,sparse_mx,k=10)\n",
    "movieTitle = movies_titles[movie_id]\n",
    "print(f\" Pelicula vista originalmente :::::::::>>>>>> {movieTitle}\")\n",
    "print(\"***************************************************************************\")\n",
    "print(\"Peliculas Recomendadas\")\n",
    "print(\"***************************************************************************\")\n",
    "\n",
    "recomendation_data = []\n",
    "\n",
    "for i in movies_recomendation_final:\n",
    "    recomendation_data.append(movies_titles[i])\n",
    "    print(movies_titles[i])"
   ]
  },
  {
   "cell_type": "code",
   "execution_count": 98,
   "id": "2c07d7fb",
   "metadata": {},
   "outputs": [
    {
     "name": "stdout",
     "output_type": "stream",
     "text": [
      "Spy Hard (1996)\n",
      "Bio-Dome (1996)\n",
      "Mafia! (1998)\n",
      "Gremlins 2: The New Batch (1990)\n",
      "Down Periscope (1996)\n",
      "Tales from the Crypt Presents: Bordello of Blood (1996)\n",
      "Vampires (1998)\n",
      "Robin Hood: Men in Tights (1993)\n",
      "American Werewolf in Paris, An (1997)\n",
      "Bats (1999)\n"
     ]
    }
   ],
   "source": [
    "#dic_data = {}\n",
    "recomendation_data = []\n",
    "\n",
    "#n = 0\n",
    "\n",
    "for i in movies_recomendation_final:\n",
    "    #string =\"movie\" + \"_\" + str(n)\n",
    "    #dic_data[string] = movies_titles[i]\n",
    "    recomendation_data.append(movies_titles[i])\n",
    "    print(movies_titles[i])\n",
    "    #n = n+1"
   ]
  },
  {
   "cell_type": "code",
   "execution_count": 66,
   "id": "64f39689",
   "metadata": {},
   "outputs": [],
   "source": [
    "#dic_data"
   ]
  },
  {
   "cell_type": "markdown",
   "id": "bed2112b",
   "metadata": {},
   "source": [
    "---"
   ]
  },
  {
   "cell_type": "markdown",
   "id": "2a375b3d",
   "metadata": {},
   "source": [
    "<h1>Subir recomendaciones a Firebase</h1>"
   ]
  },
  {
   "cell_type": "markdown",
   "id": "a70ef18a",
   "metadata": {},
   "source": [
    "---"
   ]
  },
  {
   "cell_type": "code",
   "execution_count": 67,
   "id": "a0e75a81",
   "metadata": {},
   "outputs": [],
   "source": [
    "#recomendation_data"
   ]
  },
  {
   "cell_type": "code",
   "execution_count": 68,
   "id": "57666e63",
   "metadata": {},
   "outputs": [],
   "source": [
    "#dic_data[\"recomendations\"] = recomendation_data"
   ]
  },
  {
   "cell_type": "code",
   "execution_count": 69,
   "id": "7583b7e3",
   "metadata": {},
   "outputs": [],
   "source": [
    "#dic_data"
   ]
  },
  {
   "cell_type": "code",
   "execution_count": 70,
   "id": "fa0b92d0",
   "metadata": {},
   "outputs": [],
   "source": [
    "#dic_data.get"
   ]
  },
  {
   "cell_type": "code",
   "execution_count": 99,
   "id": "dc6c067b",
   "metadata": {},
   "outputs": [],
   "source": [
    "score_community = list(total_data[\"Ratings\"])"
   ]
  },
  {
   "cell_type": "code",
   "execution_count": null,
   "id": "5604721e",
   "metadata": {},
   "outputs": [],
   "source": []
  },
  {
   "cell_type": "markdown",
   "id": "352e3b95",
   "metadata": {},
   "source": [
    "---"
   ]
  },
  {
   "cell_type": "code",
   "execution_count": 100,
   "id": "1f1e096f",
   "metadata": {},
   "outputs": [],
   "source": [
    "from firebase import firebase\n",
    "firebase = firebase.FirebaseApplication(\"https://movie-recomendation-a415c-default-rtdb.firebaseio.com/\",None)"
   ]
  },
  {
   "cell_type": "code",
   "execution_count": 101,
   "id": "3355b1cb",
   "metadata": {},
   "outputs": [],
   "source": [
    "for i in range(len(recomendation_data)):\n",
    "    dic_data={}\n",
    "    string = \"name_movie\"\n",
    "    string2= \"score_recomendation\"\n",
    "    dic_data[string] = recomendation_data[i]\n",
    "    dic_data[string2] = 0\n",
    "    firebase.patch(\"/recomendations_movies_data/recomendation_\"+str(i),dic_data)\n",
    "\n"
   ]
  },
  {
   "cell_type": "code",
   "execution_count": 74,
   "id": "a73e8556",
   "metadata": {},
   "outputs": [],
   "source": [
    "#Solution for python :: pip install git+https://github.com/ozgur/python-firebase"
   ]
  },
  {
   "cell_type": "code",
   "execution_count": 75,
   "id": "0db3284d",
   "metadata": {},
   "outputs": [
    {
     "data": {
      "text/plain": [
       "dict"
      ]
     },
     "execution_count": 75,
     "metadata": {},
     "output_type": "execute_result"
    }
   ],
   "source": [
    "len(movies_titles)\n",
    "type(movies_titles)"
   ]
  },
  {
   "cell_type": "code",
   "execution_count": 76,
   "id": "5b68497a",
   "metadata": {},
   "outputs": [
    {
     "data": {
      "text/html": [
       "<div>\n",
       "<style scoped>\n",
       "    .dataframe tbody tr th:only-of-type {\n",
       "        vertical-align: middle;\n",
       "    }\n",
       "\n",
       "    .dataframe tbody tr th {\n",
       "        vertical-align: top;\n",
       "    }\n",
       "\n",
       "    .dataframe thead th {\n",
       "        text-align: right;\n",
       "    }\n",
       "</style>\n",
       "<table border=\"1\" class=\"dataframe\">\n",
       "  <thead>\n",
       "    <tr style=\"text-align: right;\">\n",
       "      <th></th>\n",
       "      <th>MovieID</th>\n",
       "      <th>Title</th>\n",
       "      <th>Genres</th>\n",
       "    </tr>\n",
       "  </thead>\n",
       "  <tbody>\n",
       "    <tr>\n",
       "      <th>0</th>\n",
       "      <td>1</td>\n",
       "      <td>Toy Story (1995)</td>\n",
       "      <td>Animation|Children's|Comedy</td>\n",
       "    </tr>\n",
       "    <tr>\n",
       "      <th>1</th>\n",
       "      <td>2</td>\n",
       "      <td>Jumanji (1995)</td>\n",
       "      <td>Adventure|Children's|Fantasy</td>\n",
       "    </tr>\n",
       "    <tr>\n",
       "      <th>2</th>\n",
       "      <td>3</td>\n",
       "      <td>Grumpier Old Men (1995)</td>\n",
       "      <td>Comedy|Romance</td>\n",
       "    </tr>\n",
       "    <tr>\n",
       "      <th>3</th>\n",
       "      <td>4</td>\n",
       "      <td>Waiting to Exhale (1995)</td>\n",
       "      <td>Comedy|Drama</td>\n",
       "    </tr>\n",
       "    <tr>\n",
       "      <th>4</th>\n",
       "      <td>5</td>\n",
       "      <td>Father of the Bride Part II (1995)</td>\n",
       "      <td>Comedy</td>\n",
       "    </tr>\n",
       "  </tbody>\n",
       "</table>\n",
       "</div>"
      ],
      "text/plain": [
       "   MovieID                               Title                        Genres\n",
       "0        1                    Toy Story (1995)   Animation|Children's|Comedy\n",
       "1        2                      Jumanji (1995)  Adventure|Children's|Fantasy\n",
       "2        3             Grumpier Old Men (1995)                Comedy|Romance\n",
       "3        4            Waiting to Exhale (1995)                  Comedy|Drama\n",
       "4        5  Father of the Bride Part II (1995)                        Comedy"
      ]
     },
     "execution_count": 76,
     "metadata": {},
     "output_type": "execute_result"
    }
   ],
   "source": [
    "data_movie_copy.head()"
   ]
  },
  {
   "cell_type": "markdown",
   "id": "afa92bda",
   "metadata": {},
   "source": [
    "---"
   ]
  },
  {
   "cell_type": "markdown",
   "id": "fe05b15f",
   "metadata": {},
   "source": [
    "<h1>Execute ONCE</h1>"
   ]
  },
  {
   "cell_type": "code",
   "execution_count": 102,
   "id": "350b9802",
   "metadata": {},
   "outputs": [
    {
     "name": "stderr",
     "output_type": "stream",
     "text": [
      "100%|██████████████████████████████████████████████████████████████████████████████| 3883/3883 [21:14<00:00,  3.05it/s]\n"
     ]
    }
   ],
   "source": [
    "for i in tqdm(movies_titles):\n",
    "    dic_data_2={}\n",
    "    dic_data_2[\"name_movie\"] = movies_titles[i]\n",
    "    dic_data_2[\"identifier\"] = i\n",
    "    dic_data_2[\"flag\"] = 0\n",
    "    firebase.patch(\"/movie_title/movie_\"+str(i),dic_data_2)"
   ]
  },
  {
   "cell_type": "code",
   "execution_count": null,
   "id": "263fa0f4",
   "metadata": {},
   "outputs": [],
   "source": []
  },
  {
   "cell_type": "code",
   "execution_count": null,
   "id": "90c19fd0",
   "metadata": {},
   "outputs": [],
   "source": []
  }
 ],
 "metadata": {
  "kernelspec": {
   "display_name": "Python 3 (ipykernel)",
   "language": "python",
   "name": "python3"
  },
  "language_info": {
   "codemirror_mode": {
    "name": "ipython",
    "version": 3
   },
   "file_extension": ".py",
   "mimetype": "text/x-python",
   "name": "python",
   "nbconvert_exporter": "python",
   "pygments_lexer": "ipython3",
   "version": "3.10.1"
  }
 },
 "nbformat": 4,
 "nbformat_minor": 5
}
