{
 "cells": [
  {
   "cell_type": "code",
   "execution_count": 83,
   "id": "a210d08a",
   "metadata": {},
   "outputs": [],
   "source": [
    "import pandas as pd\n",
    "import numpy as np\n",
    "from scipy.sparse import csr_matrix\n",
    "from sklearn.neighbors import NearestNeighbors"
   ]
  },
  {
   "cell_type": "code",
   "execution_count": 84,
   "id": "c00707a8",
   "metadata": {},
   "outputs": [],
   "source": [
    "route_movies = \"Datasets/Netflix/Netflix_Dataset_Movie.csv\"\n",
    "route_ratings = \"Datasets/Netflix/Netflix_Dataset_Rating.csv\""
   ]
  },
  {
   "cell_type": "code",
   "execution_count": 85,
   "id": "2bade257",
   "metadata": {},
   "outputs": [],
   "source": [
    "df_movie = pd.read_csv(route_movies)\n",
    "df_rating = pd.read_csv(route_ratings)\n",
    "#df_users = pd.read_csv(route_users)\n"
   ]
  },
  {
   "cell_type": "code",
   "execution_count": 86,
   "id": "15301eda",
   "metadata": {},
   "outputs": [
    {
     "data": {
      "text/html": [
       "<div>\n",
       "<style scoped>\n",
       "    .dataframe tbody tr th:only-of-type {\n",
       "        vertical-align: middle;\n",
       "    }\n",
       "\n",
       "    .dataframe tbody tr th {\n",
       "        vertical-align: top;\n",
       "    }\n",
       "\n",
       "    .dataframe thead th {\n",
       "        text-align: right;\n",
       "    }\n",
       "</style>\n",
       "<table border=\"1\" class=\"dataframe\">\n",
       "  <thead>\n",
       "    <tr style=\"text-align: right;\">\n",
       "      <th></th>\n",
       "      <th>Movie_ID</th>\n",
       "      <th>Year</th>\n",
       "      <th>Name</th>\n",
       "    </tr>\n",
       "  </thead>\n",
       "  <tbody>\n",
       "    <tr>\n",
       "      <th>0</th>\n",
       "      <td>1</td>\n",
       "      <td>2003</td>\n",
       "      <td>Dinosaur Planet</td>\n",
       "    </tr>\n",
       "    <tr>\n",
       "      <th>1</th>\n",
       "      <td>2</td>\n",
       "      <td>2004</td>\n",
       "      <td>Isle of Man TT 2004 Review</td>\n",
       "    </tr>\n",
       "    <tr>\n",
       "      <th>2</th>\n",
       "      <td>3</td>\n",
       "      <td>1997</td>\n",
       "      <td>Character</td>\n",
       "    </tr>\n",
       "    <tr>\n",
       "      <th>3</th>\n",
       "      <td>4</td>\n",
       "      <td>1994</td>\n",
       "      <td>Paula Abdul's Get Up &amp; Dance</td>\n",
       "    </tr>\n",
       "    <tr>\n",
       "      <th>4</th>\n",
       "      <td>5</td>\n",
       "      <td>2004</td>\n",
       "      <td>The Rise and Fall of ECW</td>\n",
       "    </tr>\n",
       "    <tr>\n",
       "      <th>5</th>\n",
       "      <td>6</td>\n",
       "      <td>1997</td>\n",
       "      <td>Sick</td>\n",
       "    </tr>\n",
       "    <tr>\n",
       "      <th>6</th>\n",
       "      <td>7</td>\n",
       "      <td>1992</td>\n",
       "      <td>8 Man</td>\n",
       "    </tr>\n",
       "    <tr>\n",
       "      <th>7</th>\n",
       "      <td>8</td>\n",
       "      <td>2004</td>\n",
       "      <td>What the #$*! Do We Know!?</td>\n",
       "    </tr>\n",
       "    <tr>\n",
       "      <th>8</th>\n",
       "      <td>9</td>\n",
       "      <td>1991</td>\n",
       "      <td>Class of Nuke 'Em High 2</td>\n",
       "    </tr>\n",
       "    <tr>\n",
       "      <th>9</th>\n",
       "      <td>10</td>\n",
       "      <td>2001</td>\n",
       "      <td>Fighter</td>\n",
       "    </tr>\n",
       "  </tbody>\n",
       "</table>\n",
       "</div>"
      ],
      "text/plain": [
       "   Movie_ID  Year                          Name\n",
       "0         1  2003               Dinosaur Planet\n",
       "1         2  2004    Isle of Man TT 2004 Review\n",
       "2         3  1997                     Character\n",
       "3         4  1994  Paula Abdul's Get Up & Dance\n",
       "4         5  2004      The Rise and Fall of ECW\n",
       "5         6  1997                          Sick\n",
       "6         7  1992                         8 Man\n",
       "7         8  2004    What the #$*! Do We Know!?\n",
       "8         9  1991      Class of Nuke 'Em High 2\n",
       "9        10  2001                       Fighter"
      ]
     },
     "execution_count": 86,
     "metadata": {},
     "output_type": "execute_result"
    }
   ],
   "source": [
    "df_movie.head(10)"
   ]
  },
  {
   "cell_type": "code",
   "execution_count": 87,
   "id": "01dec695",
   "metadata": {},
   "outputs": [
    {
     "data": {
      "text/html": [
       "<div>\n",
       "<style scoped>\n",
       "    .dataframe tbody tr th:only-of-type {\n",
       "        vertical-align: middle;\n",
       "    }\n",
       "\n",
       "    .dataframe tbody tr th {\n",
       "        vertical-align: top;\n",
       "    }\n",
       "\n",
       "    .dataframe thead th {\n",
       "        text-align: right;\n",
       "    }\n",
       "</style>\n",
       "<table border=\"1\" class=\"dataframe\">\n",
       "  <thead>\n",
       "    <tr style=\"text-align: right;\">\n",
       "      <th></th>\n",
       "      <th>User_ID</th>\n",
       "      <th>Rating</th>\n",
       "      <th>Movie_ID</th>\n",
       "    </tr>\n",
       "  </thead>\n",
       "  <tbody>\n",
       "    <tr>\n",
       "      <th>0</th>\n",
       "      <td>712664</td>\n",
       "      <td>5</td>\n",
       "      <td>3</td>\n",
       "    </tr>\n",
       "    <tr>\n",
       "      <th>1</th>\n",
       "      <td>1331154</td>\n",
       "      <td>4</td>\n",
       "      <td>3</td>\n",
       "    </tr>\n",
       "    <tr>\n",
       "      <th>2</th>\n",
       "      <td>2632461</td>\n",
       "      <td>3</td>\n",
       "      <td>3</td>\n",
       "    </tr>\n",
       "    <tr>\n",
       "      <th>3</th>\n",
       "      <td>44937</td>\n",
       "      <td>5</td>\n",
       "      <td>3</td>\n",
       "    </tr>\n",
       "    <tr>\n",
       "      <th>4</th>\n",
       "      <td>656399</td>\n",
       "      <td>4</td>\n",
       "      <td>3</td>\n",
       "    </tr>\n",
       "    <tr>\n",
       "      <th>5</th>\n",
       "      <td>439011</td>\n",
       "      <td>1</td>\n",
       "      <td>3</td>\n",
       "    </tr>\n",
       "    <tr>\n",
       "      <th>6</th>\n",
       "      <td>1644750</td>\n",
       "      <td>3</td>\n",
       "      <td>3</td>\n",
       "    </tr>\n",
       "    <tr>\n",
       "      <th>7</th>\n",
       "      <td>2031561</td>\n",
       "      <td>4</td>\n",
       "      <td>3</td>\n",
       "    </tr>\n",
       "    <tr>\n",
       "      <th>8</th>\n",
       "      <td>616720</td>\n",
       "      <td>4</td>\n",
       "      <td>3</td>\n",
       "    </tr>\n",
       "    <tr>\n",
       "      <th>9</th>\n",
       "      <td>2467008</td>\n",
       "      <td>4</td>\n",
       "      <td>3</td>\n",
       "    </tr>\n",
       "  </tbody>\n",
       "</table>\n",
       "</div>"
      ],
      "text/plain": [
       "   User_ID  Rating  Movie_ID\n",
       "0   712664       5         3\n",
       "1  1331154       4         3\n",
       "2  2632461       3         3\n",
       "3    44937       5         3\n",
       "4   656399       4         3\n",
       "5   439011       1         3\n",
       "6  1644750       3         3\n",
       "7  2031561       4         3\n",
       "8   616720       4         3\n",
       "9  2467008       4         3"
      ]
     },
     "execution_count": 87,
     "metadata": {},
     "output_type": "execute_result"
    }
   ],
   "source": [
    "df_rating.head(10)"
   ]
  },
  {
   "cell_type": "code",
   "execution_count": 88,
   "id": "35ed60fe",
   "metadata": {},
   "outputs": [
    {
     "data": {
      "text/html": [
       "<div>\n",
       "<style scoped>\n",
       "    .dataframe tbody tr th:only-of-type {\n",
       "        vertical-align: middle;\n",
       "    }\n",
       "\n",
       "    .dataframe tbody tr th {\n",
       "        vertical-align: top;\n",
       "    }\n",
       "\n",
       "    .dataframe thead th {\n",
       "        text-align: right;\n",
       "    }\n",
       "</style>\n",
       "<table border=\"1\" class=\"dataframe\">\n",
       "  <thead>\n",
       "    <tr style=\"text-align: right;\">\n",
       "      <th></th>\n",
       "      <th>User_ID</th>\n",
       "      <th>Rating</th>\n",
       "      <th>Movie_ID</th>\n",
       "    </tr>\n",
       "  </thead>\n",
       "  <tbody>\n",
       "  </tbody>\n",
       "</table>\n",
       "</div>"
      ],
      "text/plain": [
       "Empty DataFrame\n",
       "Columns: [User_ID, Rating, Movie_ID]\n",
       "Index: []"
      ]
     },
     "execution_count": 88,
     "metadata": {},
     "output_type": "execute_result"
    }
   ],
   "source": [
    "df_rating.loc[df_rating[\"Movie_ID\"]==1]"
   ]
  },
  {
   "cell_type": "code",
   "execution_count": 89,
   "id": "f08ed477",
   "metadata": {},
   "outputs": [],
   "source": [
    "total_data = df_rating"
   ]
  },
  {
   "cell_type": "code",
   "execution_count": 90,
   "id": "4fa9ee18",
   "metadata": {},
   "outputs": [],
   "source": [
    "total_data = total_data.merge(df_movie,on=\"Movie_ID\")"
   ]
  },
  {
   "cell_type": "code",
   "execution_count": 91,
   "id": "2620f712",
   "metadata": {},
   "outputs": [
    {
     "data": {
      "text/html": [
       "<div>\n",
       "<style scoped>\n",
       "    .dataframe tbody tr th:only-of-type {\n",
       "        vertical-align: middle;\n",
       "    }\n",
       "\n",
       "    .dataframe tbody tr th {\n",
       "        vertical-align: top;\n",
       "    }\n",
       "\n",
       "    .dataframe thead th {\n",
       "        text-align: right;\n",
       "    }\n",
       "</style>\n",
       "<table border=\"1\" class=\"dataframe\">\n",
       "  <thead>\n",
       "    <tr style=\"text-align: right;\">\n",
       "      <th></th>\n",
       "      <th>User_ID</th>\n",
       "      <th>Rating</th>\n",
       "      <th>Movie_ID</th>\n",
       "      <th>Year</th>\n",
       "      <th>Name</th>\n",
       "    </tr>\n",
       "  </thead>\n",
       "  <tbody>\n",
       "    <tr>\n",
       "      <th>0</th>\n",
       "      <td>712664</td>\n",
       "      <td>5</td>\n",
       "      <td>3</td>\n",
       "      <td>1997</td>\n",
       "      <td>Character</td>\n",
       "    </tr>\n",
       "    <tr>\n",
       "      <th>1</th>\n",
       "      <td>1331154</td>\n",
       "      <td>4</td>\n",
       "      <td>3</td>\n",
       "      <td>1997</td>\n",
       "      <td>Character</td>\n",
       "    </tr>\n",
       "    <tr>\n",
       "      <th>2</th>\n",
       "      <td>2632461</td>\n",
       "      <td>3</td>\n",
       "      <td>3</td>\n",
       "      <td>1997</td>\n",
       "      <td>Character</td>\n",
       "    </tr>\n",
       "    <tr>\n",
       "      <th>3</th>\n",
       "      <td>44937</td>\n",
       "      <td>5</td>\n",
       "      <td>3</td>\n",
       "      <td>1997</td>\n",
       "      <td>Character</td>\n",
       "    </tr>\n",
       "    <tr>\n",
       "      <th>4</th>\n",
       "      <td>656399</td>\n",
       "      <td>4</td>\n",
       "      <td>3</td>\n",
       "      <td>1997</td>\n",
       "      <td>Character</td>\n",
       "    </tr>\n",
       "  </tbody>\n",
       "</table>\n",
       "</div>"
      ],
      "text/plain": [
       "   User_ID  Rating  Movie_ID  Year       Name\n",
       "0   712664       5         3  1997  Character\n",
       "1  1331154       4         3  1997  Character\n",
       "2  2632461       3         3  1997  Character\n",
       "3    44937       5         3  1997  Character\n",
       "4   656399       4         3  1997  Character"
      ]
     },
     "execution_count": 91,
     "metadata": {},
     "output_type": "execute_result"
    }
   ],
   "source": [
    "total_data.head()"
   ]
  },
  {
   "cell_type": "code",
   "execution_count": 92,
   "id": "929bdd50",
   "metadata": {},
   "outputs": [
    {
     "data": {
      "text/plain": [
       "User_ID     0\n",
       "Rating      0\n",
       "Movie_ID    0\n",
       "Year        0\n",
       "Name        0\n",
       "dtype: int64"
      ]
     },
     "execution_count": 92,
     "metadata": {},
     "output_type": "execute_result"
    }
   ],
   "source": [
    "total_data.isnull().sum()"
   ]
  },
  {
   "cell_type": "code",
   "execution_count": 93,
   "id": "a294e1e0",
   "metadata": {},
   "outputs": [
    {
     "data": {
      "text/plain": [
       "numpy.int64"
      ]
     },
     "execution_count": 93,
     "metadata": {},
     "output_type": "execute_result"
    }
   ],
   "source": [
    "type(total_data[\"Movie_ID\"][0])"
   ]
  },
  {
   "cell_type": "code",
   "execution_count": 94,
   "id": "d870bbf2",
   "metadata": {},
   "outputs": [
    {
     "data": {
      "text/plain": [
       "numpy.int64"
      ]
     },
     "execution_count": 94,
     "metadata": {},
     "output_type": "execute_result"
    }
   ],
   "source": [
    "type(total_data[\"Rating\"][0])"
   ]
  },
  {
   "cell_type": "code",
   "execution_count": 95,
   "id": "a305133b",
   "metadata": {},
   "outputs": [
    {
     "data": {
      "text/html": [
       "<div>\n",
       "<style scoped>\n",
       "    .dataframe tbody tr th:only-of-type {\n",
       "        vertical-align: middle;\n",
       "    }\n",
       "\n",
       "    .dataframe tbody tr th {\n",
       "        vertical-align: top;\n",
       "    }\n",
       "\n",
       "    .dataframe thead th {\n",
       "        text-align: right;\n",
       "    }\n",
       "</style>\n",
       "<table border=\"1\" class=\"dataframe\">\n",
       "  <thead>\n",
       "    <tr style=\"text-align: right;\">\n",
       "      <th></th>\n",
       "      <th>User_ID</th>\n",
       "      <th>Rating</th>\n",
       "      <th>Movie_ID</th>\n",
       "      <th>Year</th>\n",
       "      <th>Name</th>\n",
       "    </tr>\n",
       "  </thead>\n",
       "  <tbody>\n",
       "  </tbody>\n",
       "</table>\n",
       "</div>"
      ],
      "text/plain": [
       "Empty DataFrame\n",
       "Columns: [User_ID, Rating, Movie_ID, Year, Name]\n",
       "Index: []"
      ]
     },
     "execution_count": 95,
     "metadata": {},
     "output_type": "execute_result"
    }
   ],
   "source": [
    "total_data.loc[total_data[\"Movie_ID\"]==1]"
   ]
  },
  {
   "cell_type": "code",
   "execution_count": 96,
   "id": "70c651b9",
   "metadata": {},
   "outputs": [
    {
     "data": {
      "text/plain": [
       "Movie_ID    0\n",
       "Year        0\n",
       "Name        0\n",
       "dtype: int64"
      ]
     },
     "execution_count": 96,
     "metadata": {},
     "output_type": "execute_result"
    }
   ],
   "source": [
    "df_movie.isnull().sum()"
   ]
  },
  {
   "cell_type": "code",
   "execution_count": 97,
   "id": "8969954e",
   "metadata": {},
   "outputs": [
    {
     "data": {
      "text/plain": [
       "User_ID     0\n",
       "Rating      0\n",
       "Movie_ID    0\n",
       "dtype: int64"
      ]
     },
     "execution_count": 97,
     "metadata": {},
     "output_type": "execute_result"
    }
   ],
   "source": [
    "df_rating.isnull().sum()"
   ]
  },
  {
   "cell_type": "markdown",
   "id": "b4aca105",
   "metadata": {},
   "source": [
    "<h4>Training</h4>"
   ]
  },
  {
   "cell_type": "markdown",
   "id": "9074b92a",
   "metadata": {},
   "source": [
    "We only need to train algorithm User ID, Movie ID and rating. "
   ]
  },
  {
   "cell_type": "code",
   "execution_count": 98,
   "id": "549d70ff",
   "metadata": {},
   "outputs": [
    {
     "data": {
      "text/plain": [
       "143458"
      ]
     },
     "execution_count": 98,
     "metadata": {},
     "output_type": "execute_result"
    }
   ],
   "source": [
    "unique_users = np.unique(df_rating[\"User_ID\"])\n",
    "len(unique_users)"
   ]
  },
  {
   "cell_type": "code",
   "execution_count": 99,
   "id": "70a5b056",
   "metadata": {},
   "outputs": [
    {
     "data": {
      "text/plain": [
       "1350"
      ]
     },
     "execution_count": 99,
     "metadata": {},
     "output_type": "execute_result"
    }
   ],
   "source": [
    "unique_movies = np.unique(df_rating[\"Movie_ID\"])\n",
    "len(unique_movies)"
   ]
  },
  {
   "cell_type": "code",
   "execution_count": 100,
   "id": "834748a0",
   "metadata": {},
   "outputs": [
    {
     "data": {
      "text/plain": [
       "17770"
      ]
     },
     "execution_count": 100,
     "metadata": {},
     "output_type": "execute_result"
    }
   ],
   "source": [
    "df_movie[\"Movie_ID\"].nunique()"
   ]
  },
  {
   "cell_type": "code",
   "execution_count": 101,
   "id": "d089d8d6",
   "metadata": {},
   "outputs": [
    {
     "data": {
      "text/plain": [
       "array([      6,       7,      79, ..., 2649388, 2649426, 2649429],\n",
       "      dtype=int64)"
      ]
     },
     "execution_count": 101,
     "metadata": {},
     "output_type": "execute_result"
    }
   ],
   "source": [
    "np.unique(df_rating[\"User_ID\"])"
   ]
  },
  {
   "cell_type": "code",
   "execution_count": 102,
   "id": "a609f8f0",
   "metadata": {},
   "outputs": [
    {
     "data": {
      "text/plain": [
       "array([   3,    8,   16, ..., 4492, 4493, 4496], dtype=int64)"
      ]
     },
     "execution_count": 102,
     "metadata": {},
     "output_type": "execute_result"
    }
   ],
   "source": [
    "np.unique(df_rating[\"Movie_ID\"])"
   ]
  },
  {
   "cell_type": "code",
   "execution_count": 103,
   "id": "125a63d9",
   "metadata": {},
   "outputs": [],
   "source": [
    "def sparse_matrix(dataframe):\n",
    "    nUsr_unq = dataframe[\"User_ID\"].nunique()\n",
    "    nMov_unq = dataframe[\"Movie_ID\"].nunique()\n",
    "    usr_map = dict(zip(np.unique(dataframe[\"User_ID\"]),list(range(nUsr_unq))))\n",
    "    mov_map = dict(zip(np.unique(dataframe[\"Movie_ID\"]),list(range(nMov_unq))))\n",
    "    \n",
    "    usr_inver_map = dict(zip(list(range(nUsr_unq)),np.unique(dataframe[\"User_ID\"])))\n",
    "    mov_inver_map = dict(zip(list(range(nMov_unq)),np.unique(dataframe[\"Movie_ID\"])))\n",
    "    \n",
    "    usr_indx = [usr_map[i] for i in dataframe[\"User_ID\"]]\n",
    "    mov_indx = [mov_map[i] for i in dataframe[\"Movie_ID\"]]\n",
    "    sparse_mx = csr_matrix((dataframe[\"Rating\"],(mov_indx,usr_indx)),shape=(nMov_unq,nUsr_unq))\n",
    "    \n",
    "    return sparse_mx,usr_map,mov_map,usr_inver_map,mov_inver_map"
   ]
  },
  {
   "cell_type": "code",
   "execution_count": 104,
   "id": "bab66567",
   "metadata": {},
   "outputs": [],
   "source": [
    "sparse_mx,usr_map,mov_map,usr_inver_map,mov_inver_map = sparse_matrix(df_rating)"
   ]
  },
  {
   "cell_type": "code",
   "execution_count": 105,
   "id": "c658523f",
   "metadata": {},
   "outputs": [
    {
     "data": {
      "text/plain": [
       "(1350, 143458)"
      ]
     },
     "execution_count": 105,
     "metadata": {},
     "output_type": "execute_result"
    }
   ],
   "source": [
    "sparse_mx.shape"
   ]
  },
  {
   "cell_type": "code",
   "execution_count": 106,
   "id": "3eeb9b91",
   "metadata": {},
   "outputs": [
    {
     "name": "stdout",
     "output_type": "stream",
     "text": [
      "  (0, 65)\t4\n",
      "  (0, 185)\t4\n",
      "  (0, 241)\t4\n",
      "  (0, 319)\t5\n",
      "  (0, 337)\t4\n",
      "  (0, 518)\t4\n",
      "  (0, 742)\t5\n",
      "  (0, 824)\t2\n",
      "  (0, 878)\t4\n",
      "  (0, 882)\t4\n",
      "  (0, 1177)\t3\n",
      "  (0, 1182)\t4\n",
      "  (0, 1231)\t4\n",
      "  (0, 1312)\t4\n",
      "  (0, 1351)\t4\n",
      "  (0, 1467)\t5\n",
      "  (0, 1559)\t4\n",
      "  (0, 1609)\t3\n",
      "  (0, 1767)\t2\n",
      "  (0, 1784)\t4\n",
      "  (0, 2049)\t2\n",
      "  (0, 2058)\t5\n",
      "  (0, 2174)\t4\n",
      "  (0, 2249)\t5\n",
      "  (0, 2456)\t3\n",
      "  :\t:\n",
      "  (1349, 143014)\t3\n",
      "  (1349, 143025)\t4\n",
      "  (1349, 143036)\t4\n",
      "  (1349, 143050)\t2\n",
      "  (1349, 143079)\t3\n",
      "  (1349, 143100)\t4\n",
      "  (1349, 143101)\t3\n",
      "  (1349, 143120)\t3\n",
      "  (1349, 143177)\t5\n",
      "  (1349, 143185)\t4\n",
      "  (1349, 143217)\t5\n",
      "  (1349, 143254)\t5\n",
      "  (1349, 143258)\t5\n",
      "  (1349, 143261)\t4\n",
      "  (1349, 143279)\t3\n",
      "  (1349, 143300)\t1\n",
      "  (1349, 143308)\t4\n",
      "  (1349, 143332)\t5\n",
      "  (1349, 143350)\t5\n",
      "  (1349, 143368)\t4\n",
      "  (1349, 143376)\t4\n",
      "  (1349, 143401)\t3\n",
      "  (1349, 143408)\t5\n",
      "  (1349, 143422)\t5\n",
      "  (1349, 143448)\t4\n"
     ]
    }
   ],
   "source": [
    "print(sparse_mx)"
   ]
  },
  {
   "cell_type": "code",
   "execution_count": 108,
   "id": "eb52a284",
   "metadata": {},
   "outputs": [],
   "source": [
    "def knn_recomendation(movieID,sparse_mx,mov_map,k,metric=\"cosine\",show_distance=False):\n",
    "    #k=Numero de recomendaciones\n",
    "    #print(type(movieID))\n",
    "    neighboursID = []\n",
    "    mov_ind = mov_map[movieID]\n",
    "    #print(f\"tipo de dato mov_ind {type(mov_ind)}\")\n",
    "    #print(f\"dato mov_ind {mov_ind}\")\n",
    "    mov_vector = sparse_mx[mov_ind]\n",
    "    k+=1\n",
    "    knn = NearestNeighbors(n_neighbors=k,algorithm=\"brute\",metric=metric)\n",
    "    knn.fit(sparse_mx)\n",
    "    if isinstance(mov_vector,(np.ndarray)):\n",
    "        mov_vector = mov_vector.reshape(1,-1)\n",
    "    neighbour = knn.kneighbors(mov_vector,return_distance=show_distance)\n",
    "    for i in range(0,k):\n",
    "        n=neighbour.item(i)\n",
    "        neighboursID.append(mov_inver_map[n])\n",
    "    neighboursID.pop(0)\n",
    "    return neighboursID"
   ]
  },
  {
   "cell_type": "code",
   "execution_count": 109,
   "id": "0cd856ef",
   "metadata": {},
   "outputs": [
    {
     "name": "stdout",
     "output_type": "stream",
     "text": [
      "Pelicula elegida= Character\n"
     ]
    }
   ],
   "source": [
    "movies_titles = dict(zip(df_movie[\"Movie_ID\"],df_movie[\"Name\"]))\n",
    "movie_id = 3\n",
    "print(f'Pelicula elegida= {movies_titles[movie_id]}')"
   ]
  },
  {
   "cell_type": "code",
   "execution_count": 110,
   "id": "21e599c3",
   "metadata": {},
   "outputs": [],
   "source": [
    "#movies_titles"
   ]
  },
  {
   "cell_type": "code",
   "execution_count": 111,
   "id": "7cb745a2",
   "metadata": {},
   "outputs": [
    {
     "name": "stdout",
     "output_type": "stream",
     "text": [
      " Pelicula vista originalmente :::::::::>>>>>> Character\n",
      "***************************************************************************\n",
      "Peliculas Recomendadas\n",
      "***************************************************************************\n",
      "Burnt by the Sun\n",
      "Pelle the Conqueror\n",
      "Man on the Train\n",
      "Talk to Her\n",
      "Indochine\n",
      "East/West\n",
      "Mostly Martha\n",
      "Il Postino\n",
      "With a Friend Like Harry\n",
      "Live Flesh\n"
     ]
    }
   ],
   "source": [
    "movies_recomendation_final = knn_recomendation(movie_id,sparse_mx,mov_map,k=10)\n",
    "movieTitle = movies_titles[movie_id]\n",
    "print(f\" Pelicula vista originalmente :::::::::>>>>>> {movieTitle}\")\n",
    "print(\"***************************************************************************\")\n",
    "print(\"Peliculas Recomendadas\")\n",
    "print(\"***************************************************************************\")\n",
    "for i in movies_recomendation_final:\n",
    "    print(movies_titles[i])"
   ]
  },
  {
   "cell_type": "code",
   "execution_count": null,
   "id": "f900e207",
   "metadata": {},
   "outputs": [],
   "source": []
  }
 ],
 "metadata": {
  "kernelspec": {
   "display_name": "Python 3 (ipykernel)",
   "language": "python",
   "name": "python3"
  },
  "language_info": {
   "codemirror_mode": {
    "name": "ipython",
    "version": 3
   },
   "file_extension": ".py",
   "mimetype": "text/x-python",
   "name": "python",
   "nbconvert_exporter": "python",
   "pygments_lexer": "ipython3",
   "version": "3.10.1"
  }
 },
 "nbformat": 4,
 "nbformat_minor": 5
}
